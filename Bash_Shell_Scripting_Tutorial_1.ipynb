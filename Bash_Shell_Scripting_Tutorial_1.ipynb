{
 "cells": [
  {
   "cell_type": "markdown",
   "metadata": {},
   "source": [
    "![imperial.ac.uk](http://www.imperial.ac.uk/ImageCropToolT4/imageTool/uploaded-images/unix--tojpeg_1440498641820_x2.jpg)\n",
    "\n",
    "Shell scripting, in my opinion is essential tool that bioinformations must have, because it is a perfect tool to automate other processes like your other scripts on Python or R. \n",
    "\n",
    "Imagine you are submitting multiple jobs on your server/cluster, however only thing changes in manual submission is the chromosome names, you would simply lose time. Altough doing the following will give you more time to spare on other jobs and will give you amazing feeling to see they are going to be submitted, while you are just watching it (It's my personal delight :) )\n",
    "\n",
    "```Bash\n",
    "FILES=/n/scratch2/eke2/ENCODE_data/positionIndexes/*\n",
    "\n",
    "for f in $FILES\n",
    "do\n",
    "\tFILE_PATH=${f::45}\n",
    "\tFILE_NAME=${f:45}\n",
    "        #echo $FILE_NAME\n",
    "\tsize=${#FILE_NAME}\n",
    "\n",
    "\tif [ \"$size\" == \"23\" ]\n",
    "\tthen\n",
    "\t\tNAME=${FILE_NAME::19}\n",
    "\t\tCHNAME=${NAME:14}\n",
    "\t\techo $CHNAME\n",
    "\telse\n",
    "\t\tNAME=${FILE_NAME::18}\n",
    "\t\tCHNAME=${NAME:14}\n",
    "\t\techo $CHNAME\n",
    "\tfi\n",
    "\n",
    "\tbsub -q short -W 12:00 -R \"rusage[mem=20000]\" -u eneskemalergin@gmail.com -J \"hdf5_$CHNAME Index\" -N \"python hdf5maker.py hg_19/ full_dnase_genomedata.enes positionIndexes/$FILE_NAME  CHIP_TRAIN/ comp_data_$CHNAME.h5\"\n",
    "\tsleep .5\n",
    "\tbsub -q short -W 12:00 -R \"rusage[mem=20000]\" -u eneskemalergin@gmail.com -J \"hdf5_$CHNAME WithoutIndex\" -N \"python hdf5maker_withoutIndex.py hg_19/ full_dnase_genomedata.enes positionIndexes/$FILE_NAME  CHIP_TRAIN/ comp_data_withoutIndex_$CHNAME.h5\"\n",
    "done\n",
    "```\n",
    "\n",
    "PS: (This small script help me to submit all the chromosomes in paralel and using 2 slighly different scripts, producing approx. 600 GB data.)"
   ]
  },
  {
   "cell_type": "markdown",
   "metadata": {},
   "source": [
    "If you convinced to follow this small tutorial like post, go ahead and catch up with me..."
   ]
  },
  {
   "cell_type": "markdown",
   "metadata": {},
   "source": [
    "A shell script is a file containing lines of code for the shell to execute.  We can write these scripts in either terminal's editors such as vim, nano, or text editors with syntax higlighters such as atom and sublime text.\n",
    "\n",
    "But before even we start I would like to mention that we are not going to write huge scripts like typical bioinformatician does with Python/Perl/R. We just need small scripts to increase our speed.\n",
    "\n",
    "Here is small intro to bash we are printing stuff with ```echo``` command and ```\"\"``` quotation marks:"
   ]
  },
  {
   "cell_type": "code",
   "execution_count": 1,
   "metadata": {
    "collapsed": false
   },
   "outputs": [
    {
     "name": "stdout",
     "output_type": "stream",
     "text": [
      "This is what I want to print\n",
      "2\n"
     ]
    }
   ],
   "source": [
    "%%bash\n",
    "echo \"This is what I want to print\"\n",
    "var=2\n",
    "echo $var"
   ]
  },
  {
   "cell_type": "markdown",
   "metadata": {},
   "source": [
    "Comments in bash are starts with ```#``` symbol like in Python:"
   ]
  },
  {
   "cell_type": "code",
   "execution_count": 2,
   "metadata": {
    "collapsed": false
   },
   "outputs": [
    {
     "name": "stdout",
     "output_type": "stream",
     "text": [
      "But this will have effect\n"
     ]
    }
   ],
   "source": [
    "%%bash\n",
    "# This is comment it will not have any effect on output\n",
    "echo \"But this will have effect\""
   ]
  },
  {
   "cell_type": "markdown",
   "metadata": {},
   "source": [
    "The first line of a shell script may look like a comment since it starts with a pound symbol ```(#)```, but it's actually a __shebang__. The shebang symbol indicates where to find the program that will be used to execute the script. Thus, the following line of code would indicate that the sh program (default shell executor) should be used to run the shell script, which is found in the ```/bin``` folder."
   ]
  },
  {
   "cell_type": "code",
   "execution_count": 3,
   "metadata": {
    "collapsed": false
   },
   "outputs": [],
   "source": [
    "%%bash\n",
    "#!bin/sh\n",
    "# It seems no effect"
   ]
  },
  {
   "cell_type": "markdown",
   "metadata": {},
   "source": [
    "To indicate the running the line is done use ```;``` at the end, however when you directly go to the new line it bash will understand that you went to new line..."
   ]
  },
  {
   "cell_type": "markdown",
   "metadata": {
    "collapsed": true
   },
   "source": [
    "How are we going to run the script that we created and named it with ```.sh``` extension? (Not necessarily have to have this extension.)\n",
    "#### 1. We need to change the permissions to make it executable:\n",
    "\n",
    "> Assuming that we have small script called printhello.sh"
   ]
  },
  {
   "cell_type": "code",
   "execution_count": 4,
   "metadata": {
    "collapsed": false
   },
   "outputs": [
    {
     "name": "stderr",
     "output_type": "stream",
     "text": [
      "chmod: cannot access 'printhello.sh': No such file or directory\n"
     ]
    }
   ],
   "source": [
    "%%bash\n",
    "# We are setting the permission to executable for specific user\n",
    "chmod u+x printhello.sh"
   ]
  },
  {
   "cell_type": "code",
   "execution_count": 5,
   "metadata": {
    "collapsed": false
   },
   "outputs": [
    {
     "name": "stderr",
     "output_type": "stream",
     "text": [
      "ls: cannot access 'printhello.sh': No such file or directory\n"
     ]
    }
   ],
   "source": [
    "%%bash\n",
    "# Checking if changed or not\n",
    "ls -l printhello.sh"
   ]
  },
  {
   "cell_type": "markdown",
   "metadata": {},
   "source": [
    "#### 2. Executing with ```source``` command\n",
    "\n",
    "The ```source``` command is used to execute in this example however there are other ways to execute it __with__ a following commands:\n",
    "\n",
    "- ```source```\n",
    "- ```./```\n",
    "- ```bash```\n",
    "- ```sh```"
   ]
  },
  {
   "cell_type": "code",
   "execution_count": 6,
   "metadata": {
    "collapsed": false
   },
   "outputs": [
    {
     "name": "stderr",
     "output_type": "stream",
     "text": [
      "bash: line 1: printhello.sh: No such file or directory\n"
     ]
    }
   ],
   "source": [
    "%%bash\n",
    "source printhello.sh"
   ]
  },
  {
   "cell_type": "code",
   "execution_count": 7,
   "metadata": {
    "collapsed": false
   },
   "outputs": [
    {
     "name": "stderr",
     "output_type": "stream",
     "text": [
      "bash: line 1: ./printhello.sh: No such file or directory\n"
     ]
    }
   ],
   "source": [
    "%%bash \n",
    "./printhello.sh"
   ]
  },
  {
   "cell_type": "code",
   "execution_count": 8,
   "metadata": {
    "collapsed": false
   },
   "outputs": [
    {
     "name": "stderr",
     "output_type": "stream",
     "text": [
      "bash: printhello.sh: No such file or directory\n"
     ]
    }
   ],
   "source": [
    "%%bash \n",
    "bash printhello.sh"
   ]
  },
  {
   "cell_type": "code",
   "execution_count": 9,
   "metadata": {
    "collapsed": false
   },
   "outputs": [
    {
     "name": "stderr",
     "output_type": "stream",
     "text": [
      "sh: 0: Can't open printhello.sh\n"
     ]
    }
   ],
   "source": [
    "%%bash \n",
    "sh printhello.sh"
   ]
  },
  {
   "cell_type": "markdown",
   "metadata": {},
   "source": [
    "Executing your scripts __with__ commands are look convenient, I agree! However in the long run when you write bigger scripts which depends on another scripts and having relationship with same packages on your system it is note really going to do the job anymore. I am not just saying that it will not work but most likely it will take a lot more time than executing your scripts __as__ a command. \n",
    "\n",
    "To be able to make your script command you have to define ```path```s in your system. We can set up paths in 2 ways:\n",
    "\n",
    "1. Place the script in a directory that's in our ```$PATH``` variable.\n",
    "2. Add the folder containing our script in the ```$PATH``` variable.\n",
    "\n",
    "> Recall that the __```$PATH```__ variable contains all the folders the shell looks through when executing a command."
   ]
  },
  {
   "cell_type": "markdown",
   "metadata": {},
   "source": [
    "### 1. Adding script to a ```$PATH``` directory"
   ]
  },
  {
   "cell_type": "markdown",
   "metadata": {},
   "source": [
    "What I want to do is to print my path first which will show me the already added paths to my root:"
   ]
  },
  {
   "cell_type": "code",
   "execution_count": 10,
   "metadata": {
    "collapsed": false
   },
   "outputs": [
    {
     "name": "stdout",
     "output_type": "stream",
     "text": [
      "/home/eneskemal/anaconda2/bin:/usr/local/cuda/bin:/home/eneskemal/bin:/home/eneskemal/.local/bin:/usr/local/sbin:/usr/local/bin:/usr/sbin:/usr/bin:/sbin:/bin:/usr/games:/usr/local/games:/snap/bin\n"
     ]
    }
   ],
   "source": [
    "%%bash \n",
    "echo $PATH"
   ]
  },
  {
   "cell_type": "markdown",
   "metadata": {},
   "source": [
    "In theory we can add our desired scripts to any path that printed with our path, but most used and less error prone folder would be ```/usr/local/path``` default path. Just move your script to the path, then voila! "
   ]
  },
  {
   "cell_type": "code",
   "execution_count": 11,
   "metadata": {
    "collapsed": false
   },
   "outputs": [
    {
     "name": "stderr",
     "output_type": "stream",
     "text": [
      "mv: cannot stat 'printhello.sh': No such file or directory\n"
     ]
    }
   ],
   "source": [
    "%%bash \n",
    "mv printhello.sh /usr/local/bin/"
   ]
  },
  {
   "cell_type": "code",
   "execution_count": 12,
   "metadata": {
    "collapsed": false
   },
   "outputs": [
    {
     "name": "stderr",
     "output_type": "stream",
     "text": [
      "bash: line 2: printhello.sh: command not found\n"
     ]
    }
   ],
   "source": [
    "%%bash\n",
    "# Just run it as a command...\n",
    "printhello.sh"
   ]
  },
  {
   "cell_type": "markdown",
   "metadata": {},
   "source": [
    "### 2. Adding containing folder to ```$PATH```"
   ]
  },
  {
   "cell_type": "markdown",
   "metadata": {},
   "source": [
    "Another way is to add your scripts containing folder and reference folders path into ```~/.bash_profile``` or ```~/.bashrc``` depending on your operating system.\n",
    "\n",
    "You can add them like this:\n",
    "\n",
    "```Bash\n",
    "PATH=$PATH:/path/to/our/scripts\n",
    "export PATH\n",
    "```\n",
    "\n",
    "After you modify the scripts you need to execute the file to actually see the changes.\n",
    "\n",
    "```Bash\n",
    "source ~/.bash_profile\n",
    "```\n",
    "\n",
    "This was a small part that you hopefully get some beneficial information about how to execute your files. \n",
    "\n",
    "__Believe me, you will need this writing path for executing scripts, a lot...__"
   ]
  },
  {
   "cell_type": "markdown",
   "metadata": {
    "collapsed": true
   },
   "source": [
    "__Variables__ in shell scripting can be tricky sometimes. There are some rules that you need to obey. \n",
    "\n",
    "Naming conventions:\n",
    "\n",
    "- Variables must start with a letter ```(a-zA-Z)``` or underscore ```(_)```.\n",
    "- Variables may then contain any number of letters ```(a-zA-Z)```, digits ```(0-9)``` or underscores ```(_)```.\n",
    "- There is no limit in characters, but a sensible programmer will make it long enough to be descriptive, and short enough to type out.\n",
    "\n",
    "Utilization conventions: _(This could be tricky, since it's not very similar to Python or other scripting languages)_\n",
    "\n",
    "- Use quotes if your variable value contains a space.\n",
    "When you want the shell to expand your variable, include a ```$``` in front.\n",
    "Wrap a variable around in quotes unles you have a good reason not to. ```echo \"$VAR\"```\n",
    "Wrap variable names around braces ```({})``` to avoid confusion. ```${VAR}```a is certainly different from ```$VARa.```"
   ]
  },
  {
   "cell_type": "code",
   "execution_count": 13,
   "metadata": {
    "collapsed": false
   },
   "outputs": [
    {
     "name": "stderr",
     "output_type": "stream",
     "text": [
      "bash: line 1: =: command not found\n"
     ]
    }
   ],
   "source": [
    "%%bash \n",
    "$Test = \"Hello World!\""
   ]
  },
  {
   "cell_type": "markdown",
   "metadata": {},
   "source": [
    "This will give you syntax error since there are spaces around ```=```. Shell does not like this..."
   ]
  },
  {
   "cell_type": "code",
   "execution_count": 14,
   "metadata": {
    "collapsed": false
   },
   "outputs": [
    {
     "name": "stdout",
     "output_type": "stream",
     "text": [
      "hello world!\n"
     ]
    }
   ],
   "source": [
    "%%bash\n",
    "test='hello world!'\n",
    "echo $test"
   ]
  },
  {
   "cell_type": "code",
   "execution_count": 15,
   "metadata": {
    "collapsed": false
   },
   "outputs": [
    {
     "name": "stdout",
     "output_type": "stream",
     "text": [
      "50\n"
     ]
    }
   ],
   "source": [
    "%%bash\n",
    "length=50\n",
    "echo $length"
   ]
  },
  {
   "cell_type": "markdown",
   "metadata": {},
   "source": [
    "> Remember that when assigning values to variables, a ```$``` sign in unnecessary, but once you want the shell to expand a variable's value, it is.\n",
    "\n",
    "So now how are we going to manipulate variables:\n",
    "\n",
    "There are some useful tricks that be must known, such as finding the length of the string. ```${#var_name}``` will do the job"
   ]
  },
  {
   "cell_type": "code",
   "execution_count": 16,
   "metadata": {
    "collapsed": false
   },
   "outputs": [
    {
     "name": "stdout",
     "output_type": "stream",
     "text": [
      "14\n"
     ]
    }
   ],
   "source": [
    "%%bash \n",
    "string_='eneskemalergin'\n",
    "echo ${#string_}"
   ]
  },
  {
   "cell_type": "markdown",
   "metadata": {},
   "source": [
    "Making a variable constant, final, or read-only is another useful small trick on manipulating variables. We use ```readonly``` command to achive this constant variable."
   ]
  },
  {
   "cell_type": "code",
   "execution_count": 17,
   "metadata": {
    "collapsed": false
   },
   "outputs": [
    {
     "name": "stdout",
     "output_type": "stream",
     "text": [
      "Hello World!\n"
     ]
    },
    {
     "name": "stderr",
     "output_type": "stream",
     "text": [
      "bash: line 5: hello: readonly variable\n"
     ]
    }
   ],
   "source": [
    "%%bash\n",
    "hello='Hello World!'\n",
    "echo $hello\n",
    "\n",
    "readonly hello\n",
    "hello=\"Another string\""
   ]
  },
  {
   "cell_type": "markdown",
   "metadata": {},
   "source": [
    "As you can see from the error line it will not overwrite the ```hello``` variable that we define.\n",
    "\n",
    "Variable that you create, in default will only be useable for the current shell, if you want to inherit the variable to another sub-shell, you should use ```export``` command.\n"
   ]
  },
  {
   "cell_type": "code",
   "execution_count": 18,
   "metadata": {
    "collapsed": false
   },
   "outputs": [
    {
     "name": "stdout",
     "output_type": "stream",
     "text": [
      "This message will be kept\n"
     ]
    }
   ],
   "source": [
    "%%bash\n",
    "keep='This message will be kept'\n",
    "not_keep='This message will not be kept'\n",
    "export keep\n",
    "\n",
    "echo $keep"
   ]
  },
  {
   "cell_type": "markdown",
   "metadata": {},
   "source": [
    "When we open up a s sub-shell it will not keep the not_keep, since it is not inheritable..."
   ]
  },
  {
   "cell_type": "code",
   "execution_count": 19,
   "metadata": {
    "collapsed": false
   },
   "outputs": [
    {
     "name": "stdout",
     "output_type": "stream",
     "text": [
      "\n"
     ]
    }
   ],
   "source": [
    "%%bash \n",
    "echo $not_keep"
   ]
  },
  {
   "cell_type": "markdown",
   "metadata": {},
   "source": [
    "Another one is to emptying the variables using ```unset``` command. When you ```unset``` a variable you will lose the value."
   ]
  },
  {
   "cell_type": "code",
   "execution_count": 20,
   "metadata": {
    "collapsed": false
   },
   "outputs": [
    {
     "name": "stdout",
     "output_type": "stream",
     "text": [
      "\n"
     ]
    }
   ],
   "source": [
    "%%bash\n",
    "test=45\n",
    "unset test\n",
    "echo $test"
   ]
  },
  {
   "cell_type": "markdown",
   "metadata": {
    "collapsed": true
   },
   "source": [
    "_Positional Parameters_ are used to access the command-line arguments\n",
    "\n",
    "```Bash \n",
    "shell_script posParam1 posParam2 posParam3\n",
    "```\n",
    "\n",
    "- ```$1``` is posParam1\n",
    "- ```$0``` is command itself\n",
    "- ```${10}``` can be used.\n",
    "\n",
    "Know this will help us to print error messages.\n",
    "\n",
    "---\n",
    "\n",
    "### Input Output in Shell Scripting"
   ]
  },
  {
   "cell_type": "markdown",
   "metadata": {},
   "source": [
    "The ```echo``` command is the easiest way of outputting to a user."
   ]
  },
  {
   "cell_type": "code",
   "execution_count": 21,
   "metadata": {
    "collapsed": false
   },
   "outputs": [
    {
     "name": "stdout",
     "output_type": "stream",
     "text": [
      "easy way to output!\n"
     ]
    }
   ],
   "source": [
    "%%bash \n",
    "echo \"easy way to output!\""
   ]
  },
  {
   "cell_type": "markdown",
   "metadata": {},
   "source": [
    "Using ```echo``` with option ```-e``` will let us use escape sequences such as; ```\\n``` new line, ```\\a``` alert.\n",
    "\n",
    "We can also use ```printf``` to do more fancy stuff. However ```printf``` is forces user to be more specific. As an example of forcing user is that ```printf``` does not include ```\\n``` new line as default so you have to include it everytime if you want to go to new line."
   ]
  },
  {
   "cell_type": "code",
   "execution_count": 23,
   "metadata": {
    "collapsed": false
   },
   "outputs": [
    {
     "name": "stdout",
     "output_type": "stream",
     "text": [
      "printing with printf don't forget to put new line\n"
     ]
    }
   ],
   "source": [
    "%%bash\n",
    "printf \"printing with printf\"\n",
    "printf \" don't forget to put new line\\n\""
   ]
  },
  {
   "cell_type": "code",
   "execution_count": 25,
   "metadata": {
    "collapsed": false
   },
   "outputs": [
    {
     "name": "stdout",
     "output_type": "stream",
     "text": [
      "Hello my name is Enes Kemal.\n"
     ]
    }
   ],
   "source": [
    "%%bash \n",
    "# Like in C, formatting is cool with shell too\n",
    "printf \"Hello my name is %s %s.\\n\" Enes Kemal"
   ]
  },
  {
   "cell_type": "code",
   "execution_count": 26,
   "metadata": {
    "collapsed": false
   },
   "outputs": [
    {
     "name": "stdout",
     "output_type": "stream",
     "text": [
      "I am 23 years old"
     ]
    }
   ],
   "source": [
    "%%bash\n",
    "printf \"I am %d years old\" 23"
   ]
  },
  {
   "cell_type": "code",
   "execution_count": 32,
   "metadata": {
    "collapsed": false
   },
   "outputs": [
    {
     "name": "stdout",
     "output_type": "stream",
     "text": [
      "The temperature now is 17.6 celcius degre \n"
     ]
    }
   ],
   "source": [
    "%%bash\n",
    "# When dealing with float numbers decimal precision is 0.6f adds 6 digit to decimal part\n",
    "printf \"The temperature now is %0.1f celcius degre \\n\" 17.6"
   ]
  },
  {
   "cell_type": "code",
   "execution_count": 33,
   "metadata": {
    "collapsed": false
   },
   "outputs": [
    {
     "name": "stdout",
     "output_type": "stream",
     "text": [
      "I am 0013 years old.\n"
     ]
    }
   ],
   "source": [
    "%%bash\n",
    "# Also possible to add 0s in front of an integers\n",
    "printf \"I am %04d years old.\\n\" 13"
   ]
  },
  {
   "cell_type": "markdown",
   "metadata": {},
   "source": [
    "If there are fewer stand-ins than variables supplied, then the shell repeats the line until done.\n"
   ]
  },
  {
   "cell_type": "code",
   "execution_count": 34,
   "metadata": {
    "collapsed": false
   },
   "outputs": [
    {
     "name": "stdout",
     "output_type": "stream",
     "text": [
      "I ate some eggs.\n",
      "I ate some chicken.\n",
      "I ate some bacon.\n"
     ]
    }
   ],
   "source": [
    "%%bash \n",
    "printf \"I ate some %s.\\n\" eggs chicken bacon"
   ]
  },
  {
   "cell_type": "markdown",
   "metadata": {},
   "source": [
    "On the other hand, if there are more stand-ins than variables, then the shell simply omits them."
   ]
  },
  {
   "cell_type": "code",
   "execution_count": 35,
   "metadata": {
    "collapsed": false
   },
   "outputs": [
    {
     "name": "stdout",
     "output_type": "stream",
     "text": [
      "I ate some eggs, chicken and .\n"
     ]
    }
   ],
   "source": [
    "%%bash\n",
    "printf \"I ate some %s, %s and %s.\\n\" eggs chicken"
   ]
  },
  {
   "cell_type": "markdown",
   "metadata": {
    "collapsed": true
   },
   "source": [
    "Quoatation marks are not really similar to Python, so it's important to talk about them even a little. \n",
    "\n",
    "__Single quotes ```''```__:\n",
    "\n",
    "- Literal values.\n",
    "- Guarantee shell won't try substitutions.\n",
    "\n",
    "__Double quotes ```\"\"```__:\n",
    "\n",
    "- Before running the command, shell looks for variables, globs and other substitutions to perform. \n",
    "- More flexibility with the shell.\n",
    "- Executes everything literally except for ```$, \\, ! or `.```\n",
    "\n",
    "__Back quotes ``__:\n",
    "\n",
    "- Key found on top of left tab key.\n",
    "- Used to execute commands.\n"
   ]
  },
  {
   "cell_type": "markdown",
   "metadata": {},
   "source": [
    "#### Standart I/O redirection\n",
    "\n",
    "__Standard Input__:\n",
    "\n",
    "- Used to input data.\n",
    "- Denoted with a ```<``` symbol.\n",
    "\n",
    "__Standard Output__:\n",
    "\n",
    "- Where the normal output goes.\n",
    "- Denoted with a ```>``` symbol.\n",
    "\n",
    "__Standard Error__:\n",
    "\n",
    "- Where all error messages are reported\n",
    "- Use ```2>```.\n",
    "\n",
    "__Appending__:\n",
    "\n",
    "- Attaches second file to bottom of first file.\n",
    "- Denoted with a ```<<``` symbol.\n",
    "\n",
    "\n",
    "There are also pipelines, which are used to take the standard output of one command to be used as the standard input of another command. These commands are joined together by a ```|```. (I personally love pipelining)"
   ]
  },
  {
   "cell_type": "code",
   "execution_count": 36,
   "metadata": {
    "collapsed": false
   },
   "outputs": [
    {
     "name": "stdout",
     "output_type": "stream",
     "text": [
      "9\n"
     ]
    }
   ],
   "source": [
    "%%bash\n",
    "ls | grep .ipynb | wc -w\n",
    "# This small one-liner gives how many files with .ipynb extension are in current folder"
   ]
  },
  {
   "cell_type": "markdown",
   "metadata": {},
   "source": [
    "To read user input into your shell program using standard in, simply use the ```read``` command."
   ]
  },
  {
   "cell_type": "code",
   "execution_count": 37,
   "metadata": {
    "collapsed": false
   },
   "outputs": [
    {
     "name": "stdout",
     "output_type": "stream",
     "text": [
      "How are you doing today? "
     ]
    }
   ],
   "source": [
    "%%bash\n",
    "printf 'How are you doing today? '\n",
    "read user_input"
   ]
  },
  {
   "cell_type": "markdown",
   "metadata": {},
   "source": [
    "- You may use the ```read``` command to read in multiple values at once, separated by a space.\n",
    "- We may hint at what info the user has to give by using the ```-p``` option."
   ]
  },
  {
   "cell_type": "code",
   "execution_count": 38,
   "metadata": {
    "collapsed": false
   },
   "outputs": [
    {
     "name": "stdout",
     "output_type": "stream",
     "text": [
      "What are your first and last names? "
     ]
    }
   ],
   "source": [
    "%%bash\n",
    "printf 'What are your first and last names? '\n",
    "read -p \"First name: \" first_name\n",
    "read -p \"Last name: \" last_name"
   ]
  },
  {
   "cell_type": "code",
   "execution_count": null,
   "metadata": {
    "collapsed": true
   },
   "outputs": [],
   "source": []
  }
 ],
 "metadata": {
  "kernelspec": {
   "display_name": "Python [Root]",
   "language": "python",
   "name": "Python [Root]"
  },
  "language_info": {
   "codemirror_mode": {
    "name": "ipython",
    "version": 2
   },
   "file_extension": ".py",
   "mimetype": "text/x-python",
   "name": "python",
   "nbconvert_exporter": "python",
   "pygments_lexer": "ipython2",
   "version": "2.7.12"
  }
 },
 "nbformat": 4,
 "nbformat_minor": 0
}
