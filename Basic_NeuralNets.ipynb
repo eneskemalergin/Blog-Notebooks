{
 "cells": [
  {
   "cell_type": "markdown",
   "metadata": {},
   "source": [
    "# Neural Networks Basics\n",
    "\n",
    "Hello all today I will start deep learning series by starting with the Neural Networks Basics. Understanding of neural networks is the key to deep learning. \n",
    "\n",
    "## Introduction\n",
    "We humans are really good at recognizing and making sense of objects around us by simply looking at them, and we do this instantly without realizing it. But the same task is not as easy as for computers. They cannot understand what they have given by defining some conditions easily. \n",
    "\n",
    "To be able to make computers to recognize objects we may use neural networks. Neural network was a tool for machine learning at the first then they improved the functions and algorithms, and they make it the basics of \"Deep Learning\". \n",
    "\n",
    "Neural networks as we defined in machine learning, they need __test data__ to learn from. If we give accurate training data then we can use them to teach computer. After iterations then we will use test data to calculate accuracy. If we increase the number of examples in training data, the accuracy of algorithm might increase.(I used \"might\" because using proper data is essential on data)\n",
    "\n",
    "\n"
   ]
  },
  {
   "cell_type": "markdown",
   "metadata": {
    "collapsed": true
   },
   "source": [
    "## Perceptrons\n",
    "\n",
    "- Their history goes back to 1950's, they are not common today. \n",
    "- They are called artificial neural networks, and they are very basic design of neural network\n",
    "- Gets multiple binary inputs and produces single output. \n",
    "\n",
    "![Single Perceptron](perceptron.png)\n",
    "\n",
    "- Then inputs are multiplyed by weights which effects the output\n",
    "- Output result only 0 or 1, determined by the following;"
   ]
  },
  {
   "cell_type": "markdown",
   "metadata": {},
   "source": [
    "$$\n",
    "\\begin{eqnarray}\n",
    "  \\mbox{output} & = & \\left\\{ \\begin{array}{ll}\n",
    "      0 & \\mbox{if } \\sum_j w_j x_j \\leq \\mbox{ threshold} \\\\\n",
    "      1 & \\mbox{if } \\sum_j w_j x_j > \\mbox{ threshold}\n",
    "      \\end{array} \\right.\n",
    "\\tag{1}\\end{eqnarray}\n",
    "$$"
   ]
  },
  {
   "cell_type": "markdown",
   "metadata": {},
   "source": [
    "- By varying weight and treshold, we can get different models of decision making\n",
    "- Each neuron/node in a neural network have a different decisions to make\n",
    "- Increasing nodes or layers you get more sophisticated decisions\n",
    "- Perceptron has only 1 output.\n",
    "\n",
    "Let's simplfy the way we describe it.  \n",
    "$$w \\cdot x \\equiv \\sum_j w_j x_j$$\n",
    "\n",
    "- Let's moce the treshold to the otherside of the inequality and replace it by what's known as the perceptron's bias,\n",
    "$$\n",
    "b \\equiv\n",
    "-\\mbox{threshold}\n",
    "$$\n",
    "\n",
    "Now we have:\n",
    "$$\\begin{eqnarray}\n",
    "  \\mbox{output} = \\left\\{ \n",
    "    \\begin{array}{ll} \n",
    "      0 & \\mbox{if } w\\cdot x + b \\leq 0 \\\\\n",
    "      1 & \\mbox{if } w\\cdot x + b > 0\n",
    "    \\end{array}\n",
    "  \\right.\n",
    "\\tag{2}\\end{eqnarray}$$"
   ]
  },
  {
   "cell_type": "markdown",
   "metadata": {},
   "source": [
    "> __Bias__: is measure of how easy it is to get the perceptron output a 1.\n",
    "\n",
    "- Described perceptrons as a method for weighing evidence to make decisions.\n",
    "- Perceptrons can be used to computer logical functions (AND, OR, and NAND) too"
   ]
  },
  {
   "cell_type": "markdown",
   "metadata": {},
   "source": [
    "## Sigmoid Neurons\n",
    "\n",
    "After finding out that perceptrons are not very useful for small changes or real numerical changes, they upgrade concept by changing the function.\n",
    "\n",
    "Small changes in sigmoid neurons' weight and bias won't cause huge changes. It has also the same structure but the function in neuron is different.\n",
    "\n",
    "![](perceptron.png)\n",
    "\n",
    "Inputs can have values between 0 and 1, real numbers like, 0.65245... Also the output may get float numbers as well. \n",
    "\n",
    "Since sigmoid neurons are derived from perceptrons the function will be ```sigmoid(w.x+b)``` and functional, \n",
    "$$\\begin{eqnarray} \n",
    "  \\sigma(z) \\equiv \\frac{1}{1+e^{-z}}.\n",
    "\\tag{3}\\end{eqnarray}$$\n",
    "\n",
    "Explicitly:\n",
    "$$\\begin{eqnarray} \n",
    "  \\frac{1}{1+\\exp(-\\sum_j w_j x_j-b)}.\n",
    "\\tag{4}\\end{eqnarray}$$\n",
    "\n",
    "Sigmoid Function \n",
    "![Sigmoid Function](sigmoidfunction.png)\n",
    "\n",
    "\n",
    "Step Function\n",
    "![Step Function](step.png)"
   ]
  },
  {
   "cell_type": "markdown",
   "metadata": {},
   "source": [
    "If sigma function had infact been a step functions then the sigmoid neuron would be a perceptron since the output would be 0 or 1.\n",
    "\n",
    "- By using sigma function we smoothed out perceptron.\n",
    "\n",
    "$$\n",
    "\\begin{eqnarray} \n",
    "  \\Delta \\mbox{output} \\approx \\sum_j \\frac{\\partial \\, \\mbox{output}}{\\partial w_j}\n",
    "  \\Delta w_j + \\frac{\\partial \\, \\mbox{output}}{\\partial b} \\Delta b,\n",
    "\\tag{5}\\end{eqnarray}\n",
    "$$"
   ]
  },
  {
   "cell_type": "markdown",
   "metadata": {},
   "source": [
    "$$ \\Delta \\mbox{output}$$ is a linear function of the changes $$\\Delta w_j$$ and $$\\Delta b$$ in the weight and bias. \n",
    "\n",
    "Biggest difference between perceptron and sigmoid neurons is that sigmoid won't jump 0 to 1 real numbers are possible. "
   ]
  },
  {
   "cell_type": "markdown",
   "metadata": {},
   "source": [
    "## The Architecture of Neural Networks\n",
    "\n",
    "- Hidden layer only means not input or output\n",
    "- In deep learning more than one hidden layer situation is possible\n",
    "\n",
    "![](neuralNets1.png)\n",
    "\n",
    "- Designing input and output nodes are more straightforward.\n",
    "\n",
    "Let's try to determine wheather a handwritten image despites a \"9\" or not.\n",
    "\n",
    "1. Encoding the intensities of image pixels into the input neurons\n",
    "2. 64x64 pix image 4096 input neurons, with th intensities scaled appropriately between 0 and 1\n",
    "3. Output layer will contain just a single neuron, with output values of less than 0.5 indicating \"input image is not a 9\", and values greate than 0.5 indicating \"input image is a 9\"\n",
    "\n",
    "\n",
    "Neural networks where the output from one layer is used as input to the next layer which is called feedforward networks. There is no looping in this kind of network.\n",
    "\n",
    "> Recurrent Neural Networks are the ones which allows you to use looping in network. Concept of RNN is interesting because it works more similar to our Brain work flow. They are less powerful, and not popular because of that.\n",
    "\n"
   ]
  },
  {
   "cell_type": "code",
   "execution_count": null,
   "metadata": {
    "collapsed": true
   },
   "outputs": [],
   "source": [
    "## "
   ]
  }
 ],
 "metadata": {
  "kernelspec": {
   "display_name": "Python 2",
   "language": "python",
   "name": "python2"
  },
  "language_info": {
   "codemirror_mode": {
    "name": "ipython",
    "version": 2
   },
   "file_extension": ".py",
   "mimetype": "text/x-python",
   "name": "python",
   "nbconvert_exporter": "python",
   "pygments_lexer": "ipython2",
   "version": "2.7.10"
  }
 },
 "nbformat": 4,
 "nbformat_minor": 0
}
