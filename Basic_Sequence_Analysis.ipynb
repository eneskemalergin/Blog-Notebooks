{
 "cells": [
  {
   "cell_type": "markdown",
   "metadata": {},
   "source": [
    "# Performing Basic Sequence Analysis\n",
    "\n",
    "Now I am continuing to my bioinformatics cookbook tutorial series. Today's topic is to perform basic sequence analysis which is the basics of Next Generation Sequencing. \n",
    "\n",
    "We will do some basic sequence analysis on DNA sequences. FASTA files are our main target on this, also Biopython as a main library of Python.\n",
    "\n",
    "Let's first download a FASTA sequence"
   ]
  },
  {
   "cell_type": "code",
   "execution_count": 1,
   "metadata": {
    "collapsed": false
   },
   "outputs": [
    {
     "name": "stdout",
     "output_type": "stream",
     "text": [
      "First 10 and last 10: GTTCCTAGAA...CTGTCCTTTC\n"
     ]
    }
   ],
   "source": [
    "from Bio import Entrez, SeqIO\n",
    "# Using my email\n",
    "Entrez.email = \"eneskemalergin@gmail.com\"\n",
    "# Get the FASTA file \n",
    "hdl = Entrez.efetch(db='nucleotide', id=['NM_002299'],rettype='fasta') # Lactase gene\n",
    "# Read it and store it in seq\n",
    "seq = SeqIO.read(hdl, 'fasta')\n",
    "print \"First 10 and last 10: \" + seq.seq[:10] + \"...\" + seq.seq[-10:]"
   ]
  },
  {
   "cell_type": "markdown",
   "metadata": {},
   "source": [
    "- Let's save the Biopython object in FASTA file;"
   ]
  },
  {
   "cell_type": "code",
   "execution_count": 2,
   "metadata": {
    "collapsed": false
   },
   "outputs": [],
   "source": [
    "from Bio import SeqIO\n",
    "# Open a new fasta file and make it ready to write on\n",
    "w_hdl = open('example.fasta', 'w')\n",
    "# specify the part to write\n",
    "w_seq = seq[11:5795]\n",
    "# Write it\n",
    "SeqIO.write([w_seq], w_hdl, 'fasta')\n",
    "# And of course close it\n",
    "w_hdl.close()"
   ]
  },
  {
   "cell_type": "markdown",
   "metadata": {},
   "source": [
    "> If you want to write many sequences (easily millions with NGS), do not use a list, as shown in the preceding code because this will allocate massive amounts of memory.Either use an iterator or use the ```SeqIO.write``` function several times with a subset of sequence on each write.\n",
    "\n",
    "- We need to read the sequence of course to be able to use it"
   ]
  },
  {
   "cell_type": "code",
   "execution_count": 3,
   "metadata": {
    "collapsed": false
   },
   "outputs": [
    {
     "name": "stdout",
     "output_type": "stream",
     "text": [
      "gi|32481205|ref|NM_002299.2| Homo sapiens lactase (LCT), mRNA\n",
      "ATGGAGCTGT\n",
      "SingleLetterAlphabet()\n"
     ]
    }
   ],
   "source": [
    "# Parse the fasta file and store it in recs\n",
    "recs = SeqIO.parse('example.fasta', 'fasta')\n",
    "# Iterate over each records\n",
    "for rec in recs:\n",
    "    # Get the sequences of each rec\n",
    "    seq = rec.seq\n",
    "    # Show the desription\n",
    "    print(rec.description)\n",
    "    # Show the first 10 letter in sequence\n",
    "    print(seq[:10])\n",
    "    # \n",
    "    print(seq.alphabet)"
   ]
  },
  {
   "cell_type": "markdown",
   "metadata": {},
   "source": [
    "In our example code we have only 1 sequence in 1 FASTA file so we did not have to iterate through each record. Since we won't know each time how many records we will have in FASTA the code above is suitable for most cases.\n",
    "\n",
    "> The first line of FASTA file is description of the gene, in this case : ```gi|32481205|ref|NM_002299.2| Homo sapiens lactase (LCT), mRNA```\n",
    "\n",
    "> The second line is the first 10 lettern in sequence\n",
    "\n",
    "> The last line is shows how the sequence represented\n",
    "\n",
    "- Now let's change the alphabet of the sequence we got:\n",
    "\n",
    "> We create a new sequence with a more informative alphabet."
   ]
  },
  {
   "cell_type": "code",
   "execution_count": 4,
   "metadata": {
    "collapsed": true
   },
   "outputs": [],
   "source": [
    "from Bio import Seq\n",
    "from Bio.Alphabet import IUPAC\n",
    "seq = Seq.Seq(str(seq), IUPAC.unambiguous_dna)"
   ]
  },
  {
   "cell_type": "markdown",
   "metadata": {},
   "source": [
    "- Now have an unambiguous DNA, we can transcribe it as follows:"
   ]
  },
  {
   "cell_type": "code",
   "execution_count": 5,
   "metadata": {
    "collapsed": false
   },
   "outputs": [
    {
     "name": "stdout",
     "output_type": "stream",
     "text": [
      "some of the rna variable: AUGGAGCUGU...UUCAUUCUGA\n"
     ]
    }
   ],
   "source": [
    "rna = Seq.Seq(str(seq), IUPAC.unambiguous_dna)\n",
    "rna = seq.transcribe() # Changing DNA into RNA\n",
    "print \"some of the rna variable: \"+rna[:10]+\"...\"+rna[-10:]"
   ]
  },
  {
   "cell_type": "markdown",
   "metadata": {},
   "source": [
    "> Note that the ```Seq``` constructor takes a string, not a sequence. You will see that the alphabet of the ```rna``` variable is now ```IUPACUnambigousRNA```.\n",
    "\n",
    "- Finally let's translate it into Protein:"
   ]
  },
  {
   "cell_type": "code",
   "execution_count": 6,
   "metadata": {
    "collapsed": false
   },
   "outputs": [
    {
     "name": "stdout",
     "output_type": "stream",
     "text": [
      "some of the resulting protein sequence: MELSWHVVFI...QELSPVSSF*\n"
     ]
    }
   ],
   "source": [
    "prot = seq.translate() # Changing RNA into corresponding Protein\n",
    "print \"some of the resulting protein sequence: \"+prot[:10]+\"...\"+prot[-10:]"
   ]
  },
  {
   "cell_type": "markdown",
   "metadata": {},
   "source": [
    "Now, we have a protein alphabet with the annotation that there is a stop codon (so, our protein is complete).\n",
    "\n",
    "---\n",
    "\n",
    "There are other files to store and represent sequences and we talked about some of them in the [first blog post of the series](http://eneskemalergin.github.io/2015/10/11/Getting_Started_NGS/). Now I will show you how to work with modern file formats such as FASTQ format.\n",
    "\n",
    "FASTQ files are the standard format output by modern sequencers. The purpose of the following content is to make you comfortable with quality scores and how to work with them. To be able to explain the concept we will use real big data from \"1000 Genomes Project\"\n",
    "\n",
    "> Next-generation datasets are generally very large like 1000 Genomes Project. You will need to download some stuff so, get ready to wait :)\n",
    "\n",
    "Let's Start by downloading the dataset: (BTW the following snippet is for IPython NB so if you are following this from my blog go ahead and [click here](ftp://ftp.1000genomes.ebi.ac.uk/vol1/ftp/phase3/data/NA18489/sequence_read/SRR003265.filt.fastq.gz))\n"
   ]
  },
  {
   "cell_type": "code",
   "execution_count": 10,
   "metadata": {
    "collapsed": false
   },
   "outputs": [
    {
     "name": "stdout",
     "output_type": "stream",
     "text": [
      "--2015-10-26 08:21:31--  ftp://ftp.1000genomes.ebi.ac.uk/vol1/ftp/phase3/data/NA18489/sequence_read/SRR003265.filt.fastq.gz\n",
      "           => 'SRR003265.filt.fastq.gz.1'\n",
      "Resolving ftp.1000genomes.ebi.ac.uk... 193.62.192.8\n",
      "Connecting to ftp.1000genomes.ebi.ac.uk|193.62.192.8|:21... connected.\n",
      "Logging in as anonymous ... Logged in!\n",
      "==> SYST ... done.    ==> PWD ... done.\n",
      "==> TYPE I ... done.  ==> CWD (1) /vol1/ftp/phase3/data/NA18489/sequence_read ... done.\n",
      "==> SIZE SRR003265.filt.fastq.gz ... 28919712\n",
      "==> PASV ... done.    ==> RETR SRR003265.filt.fastq.gz ... done.\n",
      "Length: 28919712 (28M) (unauthoritative)\n",
      "\n",
      "SRR003265.filt.fast 100%[=====================>]  27.58M  1.43MB/s   in 15s    \n",
      "\n",
      "2015-10-26 08:21:49 (1.88 MB/s) - 'SRR003265.filt.fastq.gz.1' saved [28919712]\n",
      "\n"
     ]
    }
   ],
   "source": [
    "!wget ftp://ftp.1000genomes.ebi.ac.uk/vol1/ftp/phase3/data/NA18489/sequence_read/SRR003265.filt.fastq.gz"
   ]
  },
  {
   "cell_type": "markdown",
   "metadata": {},
   "source": [
    "Now we have file \"SRR003265.filt.fastq.gz\" which has 3 extensions, 1 is fastq so we are fine. The last one ```gz``` is the thing we will solve with Pyhton Library while we are opening it.\n",
    "\n",
    "- First we need to open the file:"
   ]
  },
  {
   "cell_type": "code",
   "execution_count": 7,
   "metadata": {
    "collapsed": false
   },
   "outputs": [
    {
     "name": "stdout",
     "output_type": "stream",
     "text": [
      "('SRR003265.31', 'SRR003265.31 3042NAAXX:3:1:1252:1819 length=51', Seq('GGGAAAAGAAAAACAAACAAACAAAAACAAAACACAGAAACAAAAAAACCA', SingleLetterAlphabet()))\n",
      "{'phred_quality': [40, 40, 40, 40, 40, 40, 40, 40, 40, 40, 40, 40, 40, 40, 40, 40, 40, 40, 40, 30, 23, 40, 32, 35, 29, 40, 16, 40, 40, 32, 35, 31, 40, 40, 39, 22, 40, 24, 20, 28, 31, 12, 31, 10, 22, 28, 13, 26, 20, 23, 23]}\n"
     ]
    }
   ],
   "source": [
    "import gzip # This is the library we need to unzip .gz\n",
    "from Bio import SeqIO # The usual SeqIO\n",
    "# Unzip and read the fastq file at the end store it in recs\n",
    "recs = SeqIO.parse(gzip.open('SRR003265.filt.fastq.gz'),'fastq')\n",
    "rec = next(recs)\n",
    "# Print the id, description and sequence of the record\n",
    "print(rec.id, rec.description, rec.seq)\n",
    "# Print the letter_annotations\n",
    "# Biopython will convert all the Phred encoding letters to logarithmic scores\n",
    "print(rec.letter_annotations)"
   ]
  },
  {
   "cell_type": "markdown",
   "metadata": {},
   "source": [
    "> You should usually store your FASTQ files in a compressed format, for space saving and processing time saving's sake.\n",
    "\n",
    "> Don't use list(recs), if you don't want to sacrife a lot of memory, since FASTQ files are usualy big ones.\n",
    "\n",
    "- Then, let's take a look at the distribution of nucleotide reads:"
   ]
  },
  {
   "cell_type": "code",
   "execution_count": 8,
   "metadata": {
    "collapsed": false
   },
   "outputs": [
    {
     "name": "stdout",
     "output_type": "stream",
     "text": [
      "A: 28.60 7411965\n",
      "C: 21.00 5444053\n",
      "T: 29.58 7666885\n",
      "G: 20.68 5359334\n",
      "N: 0.14 37289\n"
     ]
    }
   ],
   "source": [
    "from collections import defaultdict\n",
    "# Unzip and read the fastq file\n",
    "recs = SeqIO.parse(gzip.open('SRR003265.filt.fastq.gz'),'fastq')\n",
    "# Make integer dictionary \n",
    "cnt = defaultdict(int)\n",
    "# Iterate over records\n",
    "for rec in recs:\n",
    "    # In each letter of the sequence\n",
    "    for letter in rec.seq:\n",
    "        # Count the letters and store the number of count in dictionary cnt\n",
    "        cnt[letter] += 1\n",
    "# Find the total of cnt counts\n",
    "tot = sum(cnt.values())\n",
    "# Iterate over the dictionary cnt\n",
    "for letter, cnt_value in cnt.items():\n",
    "    print('%s: %.2f %d' % (letter, 100. * cnt_value / tot, cnt_value))\n",
    "    # Prints the following\n",
    "    # For each Letter inside\n",
    "    # Print the percentage of apperance in sequences\n",
    "    # and the total number of letter \n",
    "    # Do this for each letter (even for NONE(N))"
   ]
  },
  {
   "cell_type": "markdown",
   "metadata": {},
   "source": [
    "> Note that there is a residual number for N calls. These are calls in which a sequencer reports an unknown base.\n",
    "\n",
    "- Now, let's plot the distribution of Ns according to its read position:"
   ]
  },
  {
   "cell_type": "code",
   "execution_count": 9,
   "metadata": {
    "collapsed": false
   },
   "outputs": [
    {
     "data": {
      "text/plain": [
       "(1, 51)"
      ]
     },
     "execution_count": 9,
     "metadata": {},
     "output_type": "execute_result"
    },
    {
     "data": {
      "image/png": "[encoded data removed]",
      "text/plain": [
       "<matplotlib.figure.Figure at 0x1071730d0>"
      ]
     },
     "metadata": {},
     "output_type": "display_data"
    }
   ],
   "source": [
    "%matplotlib inline \n",
    "# Plot it in IPython Directly\n",
    "# Calling libraries\n",
    "import seaborn as sns\n",
    "import matplotlib.pyplot as plt\n",
    "# Again unzip, read the fastq file \n",
    "recs = SeqIO.parse(gzip.open('SRR003265.filt.fastq.gz'), 'fastq')\n",
    "# Make a dictionary\n",
    "n_cnt = defaultdict(int)\n",
    "# The same code as before until here \n",
    "# iterate through the file and get the position of any references to N.\n",
    "for rec in recs:\n",
    "    for i, letter in enumerate(rec.seq):\n",
    "        pos = i + 1\n",
    "        if letter == 'N':\n",
    "            n_cnt[pos] += 1            \n",
    "seq_len = max(n_cnt.keys())\n",
    "positions = range(1, seq_len + 1)\n",
    "fig, ax = plt.subplots()\n",
    "ax.plot(positions, [n_cnt[x] for x in positions])\n",
    "ax.set_xlim(1, seq_len)"
   ]
  },
  {
   "cell_type": "markdown",
   "metadata": {},
   "source": [
    "> Until position 25, there are no errors. This is not what you will get from a typical sequencer output, because Our example file is already filtered and the 1000 genomes filtering rules enforce that no N calls can occur before position 25.\n",
    "\n",
    "> the quantity of uncalled bases is positiondependent.\n",
    "\n",
    "- So, what about the quality of reads?\n",
    "    - Let's study the distribution of Phred scores and plot the distribution of qualities according to thei read position:"
   ]
  },
  {
   "cell_type": "code",
   "execution_count": 12,
   "metadata": {
    "collapsed": false
   },
   "outputs": [
    {
     "data": {
      "text/plain": [
       "[<matplotlib.text.Text at 0x10bdb40d0>,\n",
       " <matplotlib.text.Text at 0x10bdb24d0>,\n",
       " <matplotlib.text.Text at 0x10ce60b90>,\n",
       " <matplotlib.text.Text at 0x10ce6b350>,\n",
       " <matplotlib.text.Text at 0x10ce6bad0>,\n",
       " <matplotlib.text.Text at 0x10ce75290>,\n",
       " <matplotlib.text.Text at 0x10ce75a10>,\n",
       " <matplotlib.text.Text at 0x10ce7f1d0>,\n",
       " <matplotlib.text.Text at 0x10ce7f950>,\n",
       " <matplotlib.text.Text at 0x10ce8a110>,\n",
       " <matplotlib.text.Text at 0x10ce8a890>,\n",
       " <matplotlib.text.Text at 0x10ce93050>,\n",
       " <matplotlib.text.Text at 0x10ce937d0>,\n",
       " <matplotlib.text.Text at 0x10ce93f50>,\n",
       " <matplotlib.text.Text at 0x10ce9b710>,\n",
       " <matplotlib.text.Text at 0x10ce9be90>,\n",
       " <matplotlib.text.Text at 0x10cea7650>,\n",
       " <matplotlib.text.Text at 0x10cea7dd0>,\n",
       " <matplotlib.text.Text at 0x10ceb1590>,\n",
       " <matplotlib.text.Text at 0x10ceb1d10>,\n",
       " <matplotlib.text.Text at 0x10ceba4d0>,\n",
       " <matplotlib.text.Text at 0x10cebac50>,\n",
       " <matplotlib.text.Text at 0x10cec4410>,\n",
       " <matplotlib.text.Text at 0x10cec4b90>,\n",
       " <matplotlib.text.Text at 0x10cecf350>,\n",
       " <matplotlib.text.Text at 0x10cecfad0>]"
      ]
     },
     "execution_count": 12,
     "metadata": {},
     "output_type": "execute_result"
    },
    {
     "data": {
      "image/png": "[encoded data removed]",
      "text/plain": [
       "<matplotlib.figure.Figure at 0x10bd01550>"
      ]
     },
     "metadata": {},
     "output_type": "display_data"
    }
   ],
   "source": [
    "# Reopen and read\n",
    "recs = SeqIO.parse(gzip.open('SRR003265.filt.fastq.gz'),'fastq')\n",
    "# default dictionary\n",
    "qual_pos = defaultdict(list)\n",
    "\n",
    "for rec in recs:\n",
    "    for i, qual in enumerate(rec.letter_annotations['phred_quality']):\n",
    "        if i < 25 or qual == 40:\n",
    "            continue\n",
    "        pos = i + 1\n",
    "        qual_pos[pos].append(qual)\n",
    "vps = []\n",
    "poses = qual_pos.keys()\n",
    "poses.sort()\n",
    "for pos in poses:\n",
    "    vps.append(qual_pos[pos])\n",
    "fig, ax = plt.subplots()\n",
    "ax.boxplot(vps)\n",
    "ax.set_xticklabels([str(x) for x in range(26, max(qual_pos.keys()) + 1)])"
   ]
  },
  {
   "cell_type": "markdown",
   "metadata": {
    "collapsed": true
   },
   "source": [
    "> We will ignore both positions sequenced 25 base pairs from start (again, remove this rule if you have unfiltered sequencer data) and the maximum quality score for this file (40). However, in your case, you can consider starting your plotting analysis also with the maximum. You may want to check the maximum possible value for your sequencer hardware. Generally, as most calls can be performed with maximum quality, you may want to remove them if you are trying to understand where quality problems lie.\n",
    "\n",
    "---"
   ]
  },
  {
   "cell_type": "code",
   "execution_count": null,
   "metadata": {
    "collapsed": true
   },
   "outputs": [],
   "source": []
  }
 ],
 "metadata": {
  "kernelspec": {
   "display_name": "Python 2",
   "language": "python",
   "name": "python2"
  },
  "language_info": {
   "codemirror_mode": {
    "name": "ipython",
    "version": 2
   },
   "file_extension": ".py",
   "mimetype": "text/x-python",
   "name": "python",
   "nbconvert_exporter": "python",
   "pygments_lexer": "ipython2",
   "version": "2.7.10"
  }
 },
 "nbformat": 4,
 "nbformat_minor": 0
}
