{
 "cells": [
  {
   "cell_type": "markdown",
   "metadata": {},
   "source": [
    "# Biology with Python \n",
    "\n",
    "> By Fatih Enes Kemal Ergin\n",
    "\n",
    "In this small tutorial I will talk about biological concepts with theory and implementation in Python\n",
    "\n",
    "\n",
    "Before we go into the implementation, we should cover the theoratical side of the biology. This beginning part will be for the programmers who has a little background on biology and to remind them, if you don't know anything about biology you should go to this [post](https://www.biostars.org/p/3066/#3070). If you have good amount of information about the theoratical part of the Biology, you may skip this reminder part and go directly to the implementations..."
   ]
  },
  {
   "cell_type": "markdown",
   "metadata": {},
   "source": [
    "## Short Biology\n",
    "\n",
    "Chemicals and molecules are the main constituent of the life, in here we will start examining biology with 3 main molecule structures: __Proteins__, __RNA__, and __DNA__.\n",
    "\n",
    "### Proteins:\n",
    "Proteins are the most commonly used in life forms, we may say that with out proteins we would not be different from each other.\n",
    "\n",
    "- They are sequences made up with 20 different amino acids by _polypeptides_.\n",
    "- Structure of the protein effects the chemical activity of the body/life directly.\n",
    "- Most proteins are in 3D structure which gives them an ability to vary their functionality in the life forms.\n",
    "- Protein structure and it's structure is exceedingly complex and not easy to predict which makes it very good subject to focus on research.\n",
    "- In computer science we will represent them as letters (20 different) put to gether as a sequence, where each letter represents different amino acids.\n",
    "- Sequence alco can be represented by the three letter aminoacid code form.\n",
    "- The amino acids that are linked into a protein chain are often referred to as residues.\n",
    "- You will see the term residue used when one wants to refer to a particular amino acid in a particular position of a protein chain.\n",
    "- The process of making a protein by cellular ribosomes, and the information of which amino-acid will go where is coming with another molecule called __RNA__.\n",
    "\n",
    "### RNA:\n",
    "RNA is a molecule which has different roles in the cellular program, such as messenger, transfer, ribosomal and much more...\n",
    "\n",
    "- They made up with small entities called nucleotides.\n",
    "- Information within RNA comes from DNA\n",
    "- Not all RNAs are using for protein synthesis, they have also other duties in cell.\n",
    "- Components of RNA are mostly short-lived copy of DNA\n",
    "\n",
    "\n",
    "### DNA:\n",
    "DNA is the information of everything happening inside a life form. It store every feature's information and it's offsprings.\n",
    "\n",
    "- The regions of DNA which makes the RNA is called genes.\n",
    "- They made up with also small entities called nucleotides; Adenine(A), Guanine(G), Timine(T), Cytosine.(C)\n",
    "- A DNA chain is commonly represented as a one-letter sequence \n",
    "- DNA sequence is really a representation of a double-stranded molecule which a relation of A-T and G-C\n",
    "- one long pair of DNA strands inside a cell is called a chromosome.\n",
    "- Complementary strand is the strand with relational strand from double-stranded DNA \n",
    "\n",
    "> ATGACGT is one strand, other is TACTGCA\n",
    "\n",
    "\n"
   ]
  },
  {
   "cell_type": "markdown",
   "metadata": {},
   "source": [
    "Now let's talk about some essential concepts that all bioinformatics scientists must know to start their career.\n",
    "\n",
    "### Transcription\n",
    "The process of reading DNA and creating RNA from it is called _transcription_. In computation side of it we will only use the same DNA sequence and will replace DNA nucleotide 'T' into 'U'. ```dna.replace('T','U')``` does the job in ```Python``` \n",
    "\n",
    "- The DNA strand which has the same sequence as the RNA is called the __coding strand__.\n",
    "\n",
    "### Translate\n",
    "Most RNA molecules go on to specify protein amino acid sequences in a process called __translation__; these are called messenger RNAs (mRNA).\n",
    "\n",
    "- Each subsequent group of _three_ bases, called __codon__.\n",
    "- The regions of an RNA chain that are removed are called __introns__, and those remaining are called __exons.__\n",
    "- Introns' presence makes it significantly more difficult to detect which bits of a gene are actually used to make protein sequences.\n",
    "\n",
    "### DNA Sequencing\n",
    "Nowadays, sequencing in DNA, RNA, or proteins are coming from DNA, mostly. Since we know how to convert DNA to RNA to Proteins, we don't need every informations, if you know the gene-coding regions. DNA is sequenced with a special kind of chemical reaction, which these days is often performed by a computerised machine.\n",
    "\n",
    "\n",
    "Now we have some background in biology let's dive into the algorithms and their explanations...\n"
   ]
  },
  {
   "cell_type": "markdown",
   "metadata": {},
   "source": [
    "## Using biological sequences in computing\n",
    "\n",
    "__Here are some important tips:__\n",
    "\n",
    "- Fit the sequences into some kind of data structures and make sure it will be reusable.\n",
    "- The Commonest and the simplest is storing your sequence as text\n",
    "- DNA and RNA will be represented as strings combined with 4 different characters (A, C, G, T/U)\n",
    "- Proteins have the same style with 20 different characters \n",
    "- Representing unusual or artificial amino-acids, prone: 'PRO', hydroxyproline: 'HYP'\n",
    "\n",
    "### 1. Translating a DNA sequence into protein:\n",
    "In the first script, we will translate the given DNA sequence into the protein according to pre-defined structures for aa-protein representation. Right now, we won't think of starting codon, stop codon, or special codons, but we will only implement the main concept of the translating...\n",
    "\n",
    "> I will explain the code with comments..."
   ]
  },
  {
   "cell_type": "code",
   "execution_count": 2,
   "metadata": {
    "collapsed": false
   },
   "outputs": [
    {
     "name": "stdout",
     "output_type": "stream",
     "text": [
      "['Met', 'Val', 'His', 'Leu', 'Thr', 'Pro', 'Glu', 'Glu', 'Lys', 'Ser', 'Ala', 'Val', 'Thr', 'Ala', 'Leu', 'Trp', 'Gly', 'Lys', 'Val']\n",
      "------------------------------\n",
      "AUGGUGCAUCUGACUCCUGAGGAGAAGUCUGCCGUUACUGCCCUGUGGGGCAAGGUG\n"
     ]
    }
   ],
   "source": [
    "# Here is the genetic code of the amino acids defined as dictionaries\n",
    "STANDARD_GENETIC_CODE = {'UUU':'Phe', 'UUC':'Phe', 'UCU':'Ser', 'UCC':'Ser',\n",
    "                        'UAU':'Tyr', 'UAC':'Tyr', 'UGU':'Cys', 'UGC':'Cys',\n",
    "                        'UUA':'Leu', 'UCA':'Ser', 'UAA':None, 'UGA':None,\n",
    "                        'UUG':'Leu', 'UCG':'Ser', 'UAG':None, 'UGG':'Trp',\n",
    "                        'CUU':'Leu', 'CUC':'Leu', 'CCU':'Pro', 'CCC':'Pro',\n",
    "                        'CAU':'His', 'CAC':'His', 'CGU':'Arg', 'CGC':'Arg',\n",
    "                        'CUA':'Leu', 'CUG':'Leu', 'CCA':'Pro', 'CCG':'Pro',\n",
    "                        'CAA':'Gln', 'CAG':'Gln', 'CGA':'Arg', 'CGG':'Arg',\n",
    "                        'AUU':'Ile', 'AUC':'Ile', 'ACU':'Thr', 'ACC':'Thr',\n",
    "                        'AAU':'Asn', 'AAC':'Asn', 'AGU':'Ser', 'AGC':'Ser',\n",
    "                        'AUA':'Ile', 'ACA':'Thr', 'AAA':'Lys', 'AGA':'Arg',\n",
    "                        'AUG':'Met', 'ACG':'Thr', 'AAG':'Lys', 'AGG':'Arg',\n",
    "                        'GUU':'Val', 'GUC':'Val', 'GCU':'Ala', 'GCC':'Ala',\n",
    "                        'GAU':'Asp', 'GAC':'Asp', 'GGU':'Gly', 'GGC':'Gly',\n",
    "                        'GUA':'Val', 'GUG':'Val', 'GCA':'Ala', 'GCG':'Ala',\n",
    "                        'GAA':'Glu', 'GAG':'Glu', 'GGA':'Gly', 'GGG':'Gly'\n",
    "                        }\n",
    "\n",
    "# Pre-defined DNA sequence, We will use this along the way.\n",
    "dnaSeq = 'ATGGTGCATCTGACTCCTGAGGAGAAGTCTGCCGTTACTGCCCTGTGGGGCAAGGTG'\n",
    "\n",
    "def proteinTranslation(seq, geneticCode):\n",
    "    \"\"\" This function translates a nucleic acid sequence into a\n",
    "    protein sequence, until the end or until it comes across\n",
    "    a stop codon \"\"\"\n",
    "    # Changes all the T into U, DNA to RNA\n",
    "    seq = seq.replace('T','U') # Make sure we have RNA sequence\n",
    "    proteinSeq = [] # Initializing the proteinSeq list to store the output\n",
    "    \n",
    "    i = 0\n",
    "    while i+2 < len(seq):\n",
    "        # Get codons of three letters\n",
    "        codon = seq[i:i+3] \n",
    "        # Get the match-up aminoacid\n",
    "        aminoAcid = geneticCode[codon] \n",
    "        # If found stop looping\n",
    "        if aminoAcid is None: # Found stop codon\n",
    "            break \n",
    "        # Other wise add that aminoacid to proteinSeq list\n",
    "        proteinSeq.append(aminoAcid) \n",
    "        i += 3 \n",
    "    \n",
    "    return proteinSeq\n",
    "\n",
    "print proteinTranslation(dnaSeq, STANDARD_GENETIC_CODE)\n",
    "\n",
    "print ('-'*30)\n",
    "# You can also directly change DNA to RNA and save it as RNAseq\n",
    "rnaSeq = dnaSeq.replace('T','U')\n",
    "print rnaSeq"
   ]
  },
  {
   "cell_type": "markdown",
   "metadata": {},
   "source": [
    "## 2. Estimating the Molecular Mass:\n",
    "This next script estimates the mass of a DNA, RNA or protein molecule (in units of daltons). This is only an estimate because various residues reversibly bind hydrogen ions under different conditions (i.e. pH affects whether ```H+``` ions are joined to the acidic and basic sites) and we are assuming standard proportions of the various isotopes.\n",
    "\n",
    "__Steps:__\n",
    "\n",
    "- Define a function with 2 arguments, sequence, and MoleculeType \n",
    "- Define a dictionary inside the function that stores the average molecular weights of the different kinds of residue\n",
    "- Define a variable to hold the total for the molecular mass"
   ]
  },
  {
   "cell_type": "code",
   "execution_count": 3,
   "metadata": {
    "collapsed": false
   },
   "outputs": [
    {
     "name": "stdout",
     "output_type": "stream",
     "text": [
      "5370.18\n",
      "17852.32\n"
     ]
    }
   ],
   "source": [
    "# Define function with seq and molType Protein\n",
    "def estimateMolMass(seq, molType='protein'):\n",
    "    \"\"\"Calculate the molecular weight of a biological sequence assuming\n",
    "    normal isotopic ratios and protonation/modification states\n",
    "    \"\"\"\n",
    "    # Define a function with Molecule Masses \n",
    "    residueMasses = {\n",
    "                    \"DNA\": {\"G\":329.21, \"C\":289.18, \"A\":323.21, \"T\":304.19},\n",
    "                    \"RNA\": {\"G\":345.21, \"C\":305.18, \"A\":329.21, \"U\":302.16},\n",
    "                    \"protein\": {\"A\": 71.07, \"R\":156.18, \"N\":114.08, \"D\":115.08,\n",
    "                                \"C\":103.10, \"Q\":128.13, \"E\":129.11, \"G\": 57.05,\n",
    "                                \"H\":137.14, \"I\":113.15, \"L\":113.15, \"K\":128.17,\n",
    "                                \"M\":131.19, \"F\":147.17, \"P\": 97.11, \"S\": 87.07,\n",
    "                                \"T\":101.10, \"W\":186.20, \"Y\":163.17, \"V\": 99.13}}\n",
    "    \n",
    "    # Get the molType from the dictionary residueMasses\n",
    "    massDict = residueMasses[molType]\n",
    "    # Begin with mass of extra end atoms H + OH\n",
    "    molMass = 18.02\n",
    "    \n",
    "    # Loop through each letter in sequence \n",
    "    for letter in seq:\n",
    "        # Add the molecule mass according to match-up and sum them up\n",
    "        molMass += massDict.get(letter, 0.0)\n",
    "    # Return to molMass\n",
    "    return molMass\n",
    "\n",
    "# Test Case 1\n",
    "proteinSeq = 'IRTNGTHMQPLLKLMKFQKFLLELFTLQKRKPEKGYNLPIISLNQ' # Protein Sequence is defined\n",
    "print estimateMolMass(proteinSeq) # function called with proteinSeq variable and default value protein\n",
    "\n",
    "# Test Case 2 \n",
    "print estimateMolMass(dnaSeq, molType='DNA') # function called with dnaSeq variable and DNA molType"
   ]
  },
  {
   "cell_type": "markdown",
   "metadata": {},
   "source": [
    "## 3. Finding a Sequence Motif\n",
    "The next example script is designed to find a particular smaller sub-sequence within a larger sequence. This kind of operation is useful because specific small sequences, called motifs, often have important biological roles.\n",
    "\n",
    "Here is simple example of how to find a fixed sub-sequence within a larger sequence:\n",
    "\n",
    "```Python\n",
    "seq = 'AGCTCGCTCGCTGCGTATAAAATCGCATCGCGCGCAGC'\n",
    "position1 = seq.find('TATAAA')\n",
    "position2 = seq.find('GAGGAG')\n",
    "```\n",
    "In many cases, however, it is not just one single well-defined sub-sequence that corresponds to a motif with a biological function.\n",
    "\n",
    "This particular example attempts to find the region of a DNA sequence called the ‘TATA box’. The biological role of this sequence is to help define where the start of a gene is. Note that only some genes use the TATA box system.\n"
   ]
  },
  {
   "cell_type": "code",
   "execution_count": 4,
   "metadata": {
    "collapsed": false
   },
   "outputs": [
    {
     "name": "stdout",
     "output_type": "stream",
     "text": [
      "(1952, 20, 'GGAGAAGTCTGCCGT')\n"
     ]
    }
   ],
   "source": [
    "profile = {\n",
    "            'A':[ 61, 16,352, 3,354,268,360,222,155, 56, 83, 82, 82, 68, 77],\n",
    "            'C':[145, 46, 0, 10, 0, 0, 3, 2, 44,135,147,127,118,107,101],\n",
    "            'G':[152, 18, 2, 2, 5, 0, 10, 44,157,150,128,128,128,139,140],\n",
    "            'T':[ 31,309, 35,374, 30,121, 6,121, 33, 48, 31, 52, 61, 75, 71]}\n",
    "\n",
    "def matchDnaProfile(seq, profile):\n",
    "    \"\"\" Find the best-matching position and score when comparing a DNA\n",
    "    sequence with a DNA sequence profile \"\"\"\n",
    "    bestScore = 0 # Just to start with\n",
    "    bestPosition = None # Just to start with\n",
    "    \n",
    "    width = len(profile['A'])\n",
    "    for i in range(len(seq)-width):\n",
    "        score = 0\n",
    "        for j in range(width):\n",
    "            letter = seq[i+j]\n",
    "            score += profile[letter][j]\n",
    "        if score > bestScore:\n",
    "            bestScore = score\n",
    "            bestPosition = i\n",
    "    return bestScore, bestPosition\n",
    "\n",
    "# Test Case 1\n",
    "score, position = matchDnaProfile(dnaSeq, profile)\n",
    "print(score, position, dnaSeq[position:position+15])"
   ]
  },
  {
   "cell_type": "markdown",
   "metadata": {},
   "source": [
    "## 4. GC Content\n",
    "The next example investigates a DNA sequence by measuring its GC content: i.e. the percentage of the total base pairs that are G:C (rather than A:T). All we need to do for this is to take the sequence of one strand of DNA and simply count how many of the nucleotides are G or C.\n"
   ]
  },
  {
   "cell_type": "code",
   "execution_count": 5,
   "metadata": {
    "collapsed": false
   },
   "outputs": [
    {
     "data": {
      "image/png": "[encoded data removed]",
      "text/plain": [
       "<matplotlib.figure.Figure at 0x104b6b2d0>"
      ]
     },
     "metadata": {},
     "output_type": "display_data"
    }
   ],
   "source": [
    "%matplotlib inline\n",
    "# Define a function with sequence and window Size of 10\n",
    "def calcGcContent(seq, winSize=10):\n",
    "    gcValues = [] # Initializing the gcValues\n",
    "    for i in range(len(seq)-winSize): \n",
    "        subSeq = seq[i:i+winSize] # Slice subsequence with starting point i to i+windowsSize\n",
    "        numGc = subSeq.count('G') + subSeq.count('C') # Calculate G and C numbers inside the subSeq\n",
    "        value = numGc/float(winSize) # Get the GC rate by dividing it into winSize\n",
    "        gcValues.append(value) # Add the value found to gcValues\n",
    "    return gcValues # Return the gcValues list\n",
    "\n",
    "# Test Case 1\n",
    "from matplotlib import pyplot # Call the plotting library\n",
    "gcResults = calcGcContent(dnaSeq) # get the result from function above and save result to gcResults\n",
    "pyplot.plot(gcResults) # plot it\n",
    "pyplot.show() # Show it"
   ]
  },
  {
   "cell_type": "markdown",
   "metadata": {},
   "source": [
    "## 5. Protein hydrophobicity plot\n",
    "Now we will move on to another example which produces data which we can display as a graph, but this time it will be for a protein sequence. The task here is to generate a plot of how water-hating, or to use the proper term hydrophobic, a given stretch of residues is.\n",
    "\n",
    "The next example function aims to predict whether a protein possesses a sufficiently hydrophobic segment of residues (which will fold into a helix) that will allow it to be inserted into a cell’s system of membranes. \n",
    "\n",
    "Initially we define a hydrophobicity scale, then we define the function that will perform the search so that it accepts a protein sequence and hydrophobicity scale dictionary as mandatory inputs, and an optional input to specify a search window size."
   ]
  },
  {
   "cell_type": "code",
   "execution_count": 6,
   "metadata": {
    "collapsed": false
   },
   "outputs": [
    {
     "data": {
      "image/png": "[encoded data removed]",
      "text/plain": [
       "<matplotlib.figure.Figure at 0x1064ed990>"
      ]
     },
     "metadata": {},
     "output_type": "display_data"
    }
   ],
   "source": [
    "%matplotlib inline\n",
    "# Defining a scale of hydrophobicity\n",
    "GES_SCALE = {'F':-3.7,'M':-3.4,'I':-3.1,'L':-2.8,'V':-2.6,\n",
    "            'C':-2.0,'W':-1.9,'A':-1.6,'T':-1.2,'G':-1.0,\n",
    "            'S':-0.6,'P': 0.2,'Y': 0.7,'H': 3.0,'Q': 4.1,\n",
    "            'N': 4.8,'E': 8.2,'K': 8.8,'D': 9.2,'R':12.3}\n",
    "\n",
    "# Define a function to scan a protein sequence\n",
    "def hydrophobicitySearch(seq, scale, winSize=15):\n",
    "    \"\"\"Scan a protein sequence for hydrophobic regions using the GES\n",
    "    hydrophobicity scale.\n",
    "    \"\"\"\n",
    "    # Initialize score to None\n",
    "    score = None\n",
    "    # Initialize an empty scoreList \n",
    "    scoreList = []\n",
    "    # Loop through sequence\n",
    "    for i in range(len(seq)- winSize):\n",
    "        # \n",
    "        j = i + winSize\n",
    "        if score is None:\n",
    "            score = 0\n",
    "            for k in range(i,j):\n",
    "                score += scale[seq[k]]\n",
    "        else:\n",
    "            score += scale[seq[j-1]]\n",
    "            score -= scale[seq[i-1]]\n",
    "        \n",
    "        scoreList.append(score)\n",
    "    return scoreList\n",
    "\n",
    "# Test Case 1\n",
    "from matplotlib import pyplot\n",
    "scores = hydrophobicitySearch(proteinSeq, GES_SCALE)\n",
    "pyplot.plot(scores)\n",
    "pyplot.show()"
   ]
  },
  {
   "cell_type": "markdown",
   "metadata": {},
   "source": [
    "## 6. Measuring Repetitiveness\n",
    "We will refer to the formulation we use for this comparative measure of repetitiveness as the relative entropy, also known as the Kullback-Leibler divergence.\n",
    "\n",
    "The actual example code will be broken up into two separate functions; one will calculate the relative entropy and the other will scan through a sequence compiling the results."
   ]
  },
  {
   "cell_type": "code",
   "execution_count": 7,
   "metadata": {
    "collapsed": false
   },
   "outputs": [
    {
     "data": {
      "image/png": "[encoded data removed]",
      "text/plain": [
       "<matplotlib.figure.Figure at 0x104bdccd0>"
      ]
     },
     "metadata": {},
     "output_type": "display_data"
    }
   ],
   "source": [
    "%matplotlib inline\n",
    "def calcRelativeEntropy(seq, resCodes):\n",
    "    \"\"\"Calculate a relative entropy value for the residues in a\n",
    "    sequence compared to a uniform null hypothesis.\n",
    "    \"\"\"\n",
    "    from math import log\n",
    "    N = float(len(seq))\n",
    "    base = 1.0/len(resCodes)\n",
    "    prop = {}\n",
    "    for r in resCodes:\n",
    "        prop[r] = 0\n",
    "    for r in seq:\n",
    "        prop[r] += 1\n",
    "    for r in resCodes:\n",
    "        prop[r] /= N\n",
    "    \n",
    "    H = 0\n",
    "    for r in resCodes:\n",
    "        if prop[r] != 0.0:\n",
    "            h = prop[r]* log(prop[r]/base, 2.0)\n",
    "            H += h\n",
    "    \n",
    "    H /= log(base, 2.0)\n",
    "    return H\n",
    "\n",
    "def relativeEntropySearch(seq, winSize, isProtein=False):\n",
    "    \"\"\"Scan a sequence for repetitiveness by calculating relative\n",
    "    information entropy.\n",
    "    \"\"\"\n",
    "    lenSeq = len(seq)\n",
    "    scores = [0.0] * lenSeq\n",
    "    extraSeq = seq[:winSize]\n",
    "    seq += extraSeq\n",
    "    if isProtein:\n",
    "        resCodes = 'ACDEFGHIKLMNPQRSTVWY'\n",
    "    else:\n",
    "        resCodes = 'GCAT'\n",
    "    for i in range(lenSeq):\n",
    "        subSeq = seq[i:i+winSize]\n",
    "        scores[i] = calcRelativeEntropy(subSeq, resCodes)\n",
    "    \n",
    "    return scores\n",
    "\n",
    "# Test Case 1\n",
    "from matplotlib import pyplot\n",
    "dnaScores = relativeEntropySearch(dnaSeq, 6)\n",
    "proteinScores = relativeEntropySearch(proteinSeq, 10, isProtein=True)\n",
    "pyplot.plot(dnaScores)\n",
    "pyplot.plot(proteinScores)\n",
    "pyplot.show()"
   ]
  },
  {
   "cell_type": "markdown",
   "metadata": {},
   "source": [
    "## 7. Protein Isoelectric Point\n",
    "This is an example that involves an optimisation.\n",
    "\n",
    "It is commonplace to come across problems where the values we are interested in are not directly accessible.\n",
    "\n",
    "The topic of this example is the estimation of the isoelectric point of a protein, which we will call the ```pI```. This is a measurable property of a protein: it is the ```pH``` at which the protein carries no overall electric charge.\n",
    "\n",
    "To calculate the ```pI``` we must find the ```pH``` where we think the positive and negative charges in the protein balance, hence must first have a method for estimating the charge of a protein chain at a given ```pH.```\n",
    "\n",
    "The optimisation algorithm we will use employs a divide-and-conquer strategy. We test various ```pH``` values by stepping between test points and for a given ```pH``` value and whether the resulting charge is above or below zero (positive or negative) tells us in which direction we must search next for a better answer. Also, if we come across a better guess for the ```pI``` (i.e. a ```pH``` that predicts a charge closer to zero) then we reduce the step size (how far to go for the next guess) by half so that we get increasingly close to the optimum value and don’t overshoot far.\n",
    "\n",
    "The function ```estimateCharge``` is designed to estimate the charge of a given sequence at a given ```pH```. The function takes two input variables which are helpfully named and returns a single charge value.\n",
    "\n"
   ]
  },
  {
   "cell_type": "code",
   "execution_count": 8,
   "metadata": {
    "collapsed": true
   },
   "outputs": [],
   "source": [
    "def estimateCharge(sequence, pH):\n",
    "    \"\"\"Using pKa values estimate the charge of a sequence of\n",
    "    amino acids at a given pH\"\"\"\n",
    "    \n",
    "    pKaDict = {'+': 8.0,'-': 3.1,'K':10.0,'R':12.0,\n",
    "                'H': 6.5,'E': 4.4,'D': 4.4,'Y':10.0,'C': 8.5}\n",
    "    isAcid = {'+':False,'-':True,'K':False,'R':False,\n",
    "                'H':False,'E':True,'D':True,'Y':True,'C':True}\n",
    "    total = 0.0\n",
    "    for aminoAcid in sequence:\n",
    "        pKa = pKaDict.get(aminoAcid)\n",
    "        \n",
    "        if pKa is not None:\n",
    "            r = 10.0 ** (pH-pKa)\n",
    "            dissociated = r/(r+1.0)\n",
    "            \n",
    "            if isAcid[aminoAcid]:\n",
    "                charge = -1.0 * dissociated\n",
    "            else:\n",
    "                charge = 1.0 - dissociated\n",
    "            \n",
    "            total += charge\n",
    "    return total"
   ]
  },
  {
   "cell_type": "markdown",
   "metadata": {},
   "source": [
    "The ```estimateIsoelectric``` function uses the ```estimateCharge``` function defined above to estimate the ```pH``` at which a protein sequence will be neutrally charged. To the input sequence of letters we add the + and - symbols to represent the charge groups at the _N_ and _C_ termini (strictly speaking these don’t have to be at the ends because order is unimportant).\n",
    "\n",
    "\n"
   ]
  },
  {
   "cell_type": "code",
   "execution_count": 9,
   "metadata": {
    "collapsed": false
   },
   "outputs": [
    {
     "data": {
      "text/plain": [
       "10.3846435546875"
      ]
     },
     "execution_count": 9,
     "metadata": {},
     "output_type": "execute_result"
    }
   ],
   "source": [
    "def estimateIsoelectric(sequence):\n",
    "    \"\"\"Estimate the charge neutral pH of a protein sequence.\n",
    "    This is just a guess as pKa values will vary according to\n",
    "    protein sequence, conformation and conditions.\n",
    "    \"\"\"\n",
    "    sequence = '+' + sequence + '-' # assumes seq is a string\n",
    "    bestValue = 0.0\n",
    "    minCharge = estimateCharge(sequence, bestValue)\n",
    "    increment = 7.0\n",
    "    while abs(minCharge) > 0.001:\n",
    "        pHtest = bestValue + increment\n",
    "        charge = estimateCharge(sequence, pHtest)\n",
    "        \n",
    "        if abs(charge) < abs(minCharge):\n",
    "            minCharge = charge\n",
    "            bestValue = pHtest\n",
    "        else:\n",
    "            increment = abs(increment)/2.0\n",
    "            if minCharge < 0.0:\n",
    "                increment *= -1\n",
    "                \n",
    "    return bestValue\n",
    "\n",
    "# Test Case1\n",
    "pI = estimateIsoelectric(proteinSeq)\n",
    "pI"
   ]
  },
  {
   "cell_type": "markdown",
   "metadata": {},
   "source": [
    "## Obtaining Sequences with BioPython \n",
    "You will naturally want to get your sequences from a database or file where they are stored, rather than having to type sequence letters into a Python file, if you want to use some algorithms from above...\n",
    "\n",
    "There are a lot of tools on bioinformatics but we mostly use and rely on ```BioPython```, since it has a lot of methods to use it.\n",
    "\n",
    "### Reading and Writing FASTA files\n",
    "To read a ```FASTA```-format file using ```BioPython``` we use the ```SeqIO``` module, which in this case takes an open file object and extracts each sequence of the file, in turn creating a special object for each record."
   ]
  },
  {
   "cell_type": "code",
   "execution_count": 10,
   "metadata": {
    "collapsed": false
   },
   "outputs": [
    {
     "name": "stdout",
     "output_type": "stream",
     "text": [
      "gi|15826865:265213-265815\n",
      "GTGAGTCAGCTTTCCTTCTTCACGGCCGAGTCGCTACTCCCCGCAATAGCCGATCTTGCCGGTGTGCTGGCGGCTTCCGGCCAGATCGTGGTGGTTAGCGCTTCTGGTCAAAGTCCCGCCCCGGCCGCTCGGCTTTCGGTAGTGGTAGATCAGCTCTGGCGTGCCTCGGCGCTGGCCGAGATGATTAGCGAGGCTGGTTTGGTACCCGAGATTTCTCGGACTGAGGAAGACACTCCGCTGGTCAGGACGGCGGTGGACCCGTTGTTGTGTCCGATCGCCGCCGAATGGACACGCGGCGCGGTGAAGACGGTGCCCCCGCGATGGTTGCCCGGGCCGCGCGAGCTGCGCGCGTGGATTTTGGCGGCCGGCGTCCCGGAGGCCGCCAACCGTTACCTGCTGGGTCTAGATCCGCACGCACCCGATACCCACTCACCGTTGGCGTCAGCTCTGATGCGGGTCGGAATTGCGCCCACCCTAATCGGCACCCGCAGTGGTCGACCGGCGCTTCGGATCAGCGGCCGTCGTAGGCTATCGCGCCTGTTAGAAAACGTTGGGGAACCTCCCGACTGGGCCGAGGCGTTAGCGTTGTGGCCGCGGGTTTAG\n",
      "4.6484375\n"
     ]
    }
   ],
   "source": [
    "# Calling the BioPython library and it's sub-library SeqIO\n",
    "from Bio import SeqIO\n",
    "# Opening and reading the fasta file, store them in fileObj.\n",
    "fileObj = open(\"sequence.fasta\", \"rU\")\n",
    "# Loop through in fileObj and parse it in each iteration\n",
    "for protein in SeqIO.parse(fileObj, 'fasta'):\n",
    "    # Print the id of the sequence\n",
    "    print(protein.id)\n",
    "    # Print the sequence itself\n",
    "    print(protein.seq)\n",
    "    # Print the Isoelectric point of the seq\n",
    "    print(estimateIsoelectric(protein.seq))\n",
    "\n",
    "# We should close the file object after using it!\n",
    "fileObj.close()\n"
   ]
  },
  {
   "cell_type": "markdown",
   "metadata": {},
   "source": [
    "Writing a ```FASTA``` file using ```BioPython``` is slightly trickier because we have to first create the right type of ```BioPython``` objects (```SeqRecord```), which we then pass into a function for writing. \n",
    "\n",
    "We make several more imports from the ```BioPython``` library. The ```SeqRecord``` is the final object we wish to make, and which will be written out. The ```Seq``` object is needed internally to make a ```SeqRecord``` and ```IUPAC``` is needed to check the sequence letters according to some (the ```IUPAC```) standard.\n",
    "\n"
   ]
  },
  {
   "cell_type": "code",
   "execution_count": 12,
   "metadata": {
    "collapsed": false
   },
   "outputs": [],
   "source": [
    "from Bio.SeqRecord import SeqRecord # SeqRecord to make right type of object\n",
    "from Bio.Seq import Seq # To use seq methods\n",
    "from Bio.Alphabet import IUPAC # \n",
    "\n",
    "# Will create an output file and write it as output.fasta\n",
    "fileObj = open(\"output.fasta\", \"w\")\n",
    "\n",
    "# Make a Seq with accepting only 1 protein character according to IUPAC \n",
    "seqObj = Seq(proteinSeq, IUPAC.protein)\n",
    "\n",
    "# Add id to the sequence \"Test\"\n",
    "proteinObj = SeqRecord(seqObj, id=\"TEST\")\n",
    "\n",
    "# Writing the sequences into defined format\n",
    "SeqIO.write([proteinObj,], fileObj, 'fasta')\n",
    "# Close the fileObj\n",
    "fileObj.close()"
   ]
  },
  {
   "cell_type": "markdown",
   "metadata": {
    "collapsed": true
   },
   "source": [
    "## Accessing Public Databases\n",
    "Sometimes, we wish to get data directly from a database then there are a few helper functions in BioPython that allow easy access to some large sequence databases via Internet-based services, rather than having to talk to the database directly.\n",
    "\n",
    "Here is the example to extract FASTA files from NCBI's GenBank database;\n",
    "\n",
    "- import the Entrez module\n",
    "- set the email address attribute (to identify ourselves, as encouraged by the database\n",
    "- call a function to fetch a given entry based on a given database type “protein”, return format type “fasta” and sequence identifier number\n",
    "\n"
   ]
  },
  {
   "cell_type": "code",
   "execution_count": 16,
   "metadata": {
    "collapsed": false
   },
   "outputs": [
    {
     "name": "stdout",
     "output_type": "stream",
     "text": [
      "gi|71066805|gb|DQ091202.1| Elephas maximus HBB/D gene, complete cds\n",
      "TTCTGGGCCTCAGTTTCCTCATTTGTATAATAACAGAATTGGAGAGTAAATTCTTAAGAGGCTTACCAGGCTGTAATTCTAAAAAAAATGCATAAATAAACTTGCCAAGGCAGATGTTTTTAGCAGCAATTCCTGAAAGAAACGGGACCAGGAGATAAGTAGAGAAAGAGTGAAGGTCTGAAATCAAACTAATAAGACAGTCCCAGACTGTCAAGGAGAGGTATGGCTGTCATCATTCAGGCCTCACCCTGCAGAACCACACCCTGGCCTTGGCCAATCTGCTCACAAGAGCAAAAAGGGCAGGACCAGGGTTGGGCATATAAGGAAGAGTAGTGCCAGCTGCTGTTTACACTCACTTCTGACACAACTGTGTTGACTAGCAACTACCCAATCAGACACCATGGTGAATCTGACTGCTGCTGAGAAGACACAAGTCACCAACCTGTGGGGCAAGGTGAATGTGAAAGAGCTTGGTGGTGAGGCCCTGAGCAGGTTTGTATCTAGGTTGCAAGGTAGACTTAAGGAGGGTTGAGTGGGGCTGGGCATGTGGAGACAGAACAGTCTCCCAGTTTCTGACAGGCACTGACTTCCTCTGCACCSTGTGGTGCTTTCACCTTCAGGCTGCTGGTGGTCTACCCATGGACCCGGAGGTTCTTTGAACACTTTGGGGACCTGTCCACTGCTGACGCTGTCCTGCACAACGCTAAAGTGCTGGCCCATGGCGAGAAAGTGTTGACCTCCTTTGGTGAGGGCCTGAAGCACCTGGACAACCTCAAGGGCACCTTTGCCGATCTGAGCGAGCTGCACTGTGACAAGCTGCACGTGGATCCTGAGAATTTCAGGGTGAGTCTAGGAGACACTCTATTTTTTCTTTTCACTTTGTAGTCTTTCACTGTGATTATTTTGCTTATTTGAATTTCCTCTGTATCTCTTTTTACTCGACTATGTTTCATCATTTAGTGTTTTTTCAACTTATACCATTTTGTATTACTTTTCTTTCAATATTCTTCCTTTTTTCCTGACTCACATTCTTGCTTTATATCATGCTCTTTATTTAATTTCCTACGTTTTTGCTCTTGCTCTCCCTTTCTCCTAGTTTCCTTCCCTCTGAACAGTACCCAAATTGTGCATACCACCTCTCGTCCACTATTTCTGCACTGGGGCAAATCCCCACCCCTCCTCCATATGAGGGTTGGAAAGGACTGAATCAAAGAGGAGAGGATCATGGTGCTGTTCTAGAGTATGTGATTCATTTCAGACTTGAAGGATAACTTGAATAATATAAAATCAGGAGTAAATGGAGAGGAAAGTCAGTATCTGAGAATGAAAGATCAGAAGGTCATAGACGAGATGGGGAGCAGAAGTTACTAAGAAACTGACCATTGTGGCTATAATTAATCACTTAATTAGTTAATTAATATGTTTGTTATTTATTCACGTTTTTCATTTTGGTGGGAGTAAATTTGGGCTAGTGTGTGGGCAACATAAATGGGTTTCACCCCATTGTCTCAGAGGCCAAGCTGGATTGCTTTGTTAACCATGTCTGTGTATGTATCTACCTCTTCCCCATAGCTCCTGGGCAATGTGCTGGTGATTGTCCTGGCCCGCCACTTTGGCAAGGAATTCACCCCAGATGTTCAGGCTGCCTATGAGAAGGTTGTGGCAGGTGTGGCGAATGCCCTGGCTCACAAATACCACTGAGATCCTGGCCTGTTCCTGGTATCCATCGGAAGCCCCATTTCCCGAGATGCTATCTCTGAATTTGGGAAAATAATGCCAACTCTCAAGGGCATCTCTTCTGCCTAATAAAGTACTTTCAGCTCAACTTTCTGATTCATTTATTTTTTTTCTCAGTCACTCTTGTGGTGGGGGAAGTTCCCAAGGCTCTATGGACAGAGAGCTCTTGTGCCTTATAGGAAAAGTTCAAGGGAAATTGGAAAATAAAGGGAACCATACACAGATATTAATGGGAACAATTCTACTTCAAAGGCATAAAGATTGGGAAGGTTTGGCAAATAGGATACTGGTACTACAGGGATTCCATGGGCCTCAGGCCTAAGACATAGCCCCAGGGCTAACTTTCAGATTCAATTCCAGAAATTACTCACAAAATAATGGA\n"
     ]
    }
   ],
   "source": [
    "from Bio import Entrez # Importing the library to use Entrez\n",
    "Entrez.email = 'eneskemalergin@gmail.com' # Defining email for NCBI\n",
    "# fetch the data from database:protein, typeofdata:fasta, and id \n",
    "socketObj = Entrez.efetch(db=\"protein\", rettype=\"fasta\", id=\"71066805\") # fetch the data from database: protein type\n",
    "# Read it with SeqIO and save the fasta into dnaObj\n",
    "dnaObj = SeqIO.read(socketObj, \"fasta\")\n",
    "# close the socketObj\n",
    "socketObj.close()\n",
    "# show the fetched sequence description\n",
    "print(dnaObj.description)\n",
    "# show the fetched sequence itself\n",
    "print(dnaObj.seq)"
   ]
  },
  {
   "cell_type": "code",
   "execution_count": 17,
   "metadata": {
    "collapsed": false
   },
   "outputs": [
    {
     "name": "stdout",
     "output_type": "stream",
     "text": [
      "RecName: Full=Hemoglobin subunit beta; AltName: Full=Beta-globin; AltName: Full=Hemoglobin beta chain; Contains: RecName: Full=LVV-hemorphin-7; Contains: RecName: Full=Spinorphin;\n",
      "MVHLTPEEKSAVTALWGKVNVDEVGGEALGRLLVVYPWTQRFFESFGDLSTPDAVMGNPKVKAHGKKVLGAFSDGLAHLDNLKGTFATLSELHCDKLHVDPENFRLLGNVLVCVLAHHFGKEFTPPVQAAYQKVVAGVANALAHKYH\n"
     ]
    }
   ],
   "source": [
    "# In a similar way we can read from SWISSPROT record using the ExPASy\n",
    "# another library to fetch sequence\n",
    "from Bio import ExPASy\n",
    "# Open the connection and get the sequence which is HBB_HUMAN\n",
    "socketObj = ExPASy.get_sprot_raw('HBB_HUMAN')\n",
    "# read the swiss file fetched and save it to proteinObj\n",
    "proteinObj = SeqIO.read(socketObj, \"swiss\")\n",
    "# Close the connection\n",
    "socketObj.close()\n",
    "# show the description of sequence fetched\n",
    "print(proteinObj.description)\n",
    "# Show the sequence itself\n",
    "print(proteinObj.seq)"
   ]
  },
  {
   "cell_type": "code",
   "execution_count": null,
   "metadata": {
    "collapsed": true
   },
   "outputs": [],
   "source": []
  }
 ],
 "metadata": {
  "kernelspec": {
   "display_name": "Python 2",
   "language": "python",
   "name": "python2"
  },
  "language_info": {
   "codemirror_mode": {
    "name": "ipython",
    "version": 2
   },
   "file_extension": ".py",
   "mimetype": "text/x-python",
   "name": "python",
   "nbconvert_exporter": "python",
   "pygments_lexer": "ipython2",
   "version": "2.7.10"
  }
 },
 "nbformat": 4,
 "nbformat_minor": 0
}
