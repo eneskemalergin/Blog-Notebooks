{
 "cells": [
  {
   "cell_type": "markdown",
   "metadata": {},
   "source": [
    "# Kaggle R Tutorial on Machine Learning\n",
    "\n",
    "> [Free Course from Data Camp](https://www.datacamp.com/courses/kaggle-r-tutorial-on-machine-learning)\n",
    "\n",
    "In this tutorial we will use R and Kaggle's Titanic competition using Machine Learning Algorithms."
   ]
  },
  {
   "cell_type": "markdown",
   "metadata": {},
   "source": [
    "## Getting Familiar with the Kaggle data Sets\n",
    "\n",
    "In this dataset we are asked to apply machine learning techniques to predict a passanger's chance of surviving using R.\n",
    "\n",
    "The data that kaggle is giving is stored as ```CSV``` file. We can load the data using ```read.csv()``` function. We will use the training set to build your modle, and the test set to validate it."
   ]
  },
  {
   "cell_type": "code",
   "execution_count": 1,
   "metadata": {
    "collapsed": true
   },
   "outputs": [],
   "source": [
    "# load the train data using read.csv()\n",
    "train_url <- \"http://s3.amazonaws.com/assets.datacamp.com/course/Kaggle/train.csv\"\n",
    "train <- read.csv(train_url)"
   ]
  },
  {
   "cell_type": "code",
   "execution_count": 2,
   "metadata": {
    "collapsed": true
   },
   "outputs": [],
   "source": [
    "# load the test data using read.csv()\n",
    "test_url <- \"http://s3.amazonaws.com/assets.datacamp.com/course/Kaggle/test.csv\"\n",
    "test <- read.csv(test_url)"
   ]
  },
  {
   "cell_type": "code",
   "execution_count": 6,
   "metadata": {
    "collapsed": false
   },
   "outputs": [
    {
     "data": {
      "text/html": [
       "<table>\n",
       "<thead><tr><th></th><th scope=col>PassengerId</th><th scope=col>Survived</th><th scope=col>Pclass</th><th scope=col>Name</th><th scope=col>Sex</th><th scope=col>Age</th><th scope=col>SibSp</th><th scope=col>Parch</th><th scope=col>Ticket</th><th scope=col>Fare</th><th scope=col>Cabin</th><th scope=col>Embarked</th></tr></thead>\n",
       "<tbody>\n",
       "\t<tr><th scope=row>1</th><td>1</td><td>0</td><td>3</td><td>Braund, Mr. Owen Harris</td><td>male</td><td>22</td><td>1</td><td>0</td><td>A/5 21171</td><td>7.25</td><td></td><td>S</td></tr>\n",
       "\t<tr><th scope=row>2</th><td>2</td><td>1</td><td>1</td><td>Cumings, Mrs. John Bradley (Florence Briggs Thayer)</td><td>female</td><td>38</td><td>1</td><td>0</td><td>PC 17599</td><td>71.2833</td><td>C85</td><td>C</td></tr>\n",
       "\t<tr><th scope=row>3</th><td>3</td><td>1</td><td>3</td><td>Heikkinen, Miss. Laina</td><td>female</td><td>26</td><td>0</td><td>0</td><td>STON/O2. 3101282</td><td>7.925</td><td></td><td>S</td></tr>\n",
       "\t<tr><th scope=row>4</th><td>4</td><td>1</td><td>1</td><td>Futrelle, Mrs. Jacques Heath (Lily May Peel)</td><td>female</td><td>35</td><td>1</td><td>0</td><td>113803</td><td>53.1</td><td>C123</td><td>S</td></tr>\n",
       "\t<tr><th scope=row>5</th><td>5</td><td>0</td><td>3</td><td>Allen, Mr. William Henry</td><td>male</td><td>35</td><td>0</td><td>0</td><td>373450</td><td>8.05</td><td></td><td>S</td></tr>\n",
       "\t<tr><th scope=row>6</th><td>6</td><td>0</td><td>3</td><td>Moran, Mr. James</td><td>male</td><td>NA</td><td>0</td><td>0</td><td>330877</td><td>8.4583</td><td></td><td>Q</td></tr>\n",
       "</tbody>\n",
       "</table>\n"
      ],
      "text/latex": [
       "\\begin{tabular}{r|llllllllllll}\n",
       "  & PassengerId & Survived & Pclass & Name & Sex & Age & SibSp & Parch & Ticket & Fare & Cabin & Embarked\\\\\n",
       "\\hline\n",
       "\t1 & 1 & 0 & 3 & Braund, Mr. Owen Harris & male & 22 & 1 & 0 & A/5 21171 & 7.25 &  & S\\\\\n",
       "\t2 & 2 & 1 & 1 & Cumings, Mrs. John Bradley (Florence Briggs Thayer) & female & 38 & 1 & 0 & PC 17599 & 71.2833 & C85 & C\\\\\n",
       "\t3 & 3 & 1 & 3 & Heikkinen, Miss. Laina & female & 26 & 0 & 0 & STON/O2. 3101282 & 7.925 &  & S\\\\\n",
       "\t4 & 4 & 1 & 1 & Futrelle, Mrs. Jacques Heath (Lily May Peel) & female & 35 & 1 & 0 & 113803 & 53.1 & C123 & S\\\\\n",
       "\t5 & 5 & 0 & 3 & Allen, Mr. William Henry & male & 35 & 0 & 0 & 373450 & 8.05 &  & S\\\\\n",
       "\t6 & 6 & 0 & 3 & Moran, Mr. James & male & NA & 0 & 0 & 330877 & 8.4583 &  & Q\\\\\n",
       "\\end{tabular}\n"
      ],
      "text/plain": [
       "  PassengerId Survived Pclass\n",
       "1           1        0      3\n",
       "2           2        1      1\n",
       "3           3        1      3\n",
       "4           4        1      1\n",
       "5           5        0      3\n",
       "6           6        0      3\n",
       "                                                 Name    Sex Age SibSp Parch\n",
       "1                             Braund, Mr. Owen Harris   male  22     1     0\n",
       "2 Cumings, Mrs. John Bradley (Florence Briggs Thayer) female  38     1     0\n",
       "3                              Heikkinen, Miss. Laina female  26     0     0\n",
       "4        Futrelle, Mrs. Jacques Heath (Lily May Peel) female  35     1     0\n",
       "5                            Allen, Mr. William Henry   male  35     0     0\n",
       "6                                    Moran, Mr. James   male  NA     0     0\n",
       "            Ticket    Fare Cabin Embarked\n",
       "1        A/5 21171  7.2500              S\n",
       "2         PC 17599 71.2833   C85        C\n",
       "3 STON/O2. 3101282  7.9250              S\n",
       "4           113803 53.1000  C123        S\n",
       "5           373450  8.0500              S\n",
       "6           330877  8.4583              Q"
      ]
     },
     "execution_count": 6,
     "metadata": {},
     "output_type": "execute_result"
    }
   ],
   "source": [
    "# just have a glimpse to our train data\n",
    "head(train)"
   ]
  },
  {
   "cell_type": "code",
   "execution_count": 7,
   "metadata": {
    "collapsed": false
   },
   "outputs": [
    {
     "data": {
      "text/html": [
       "<table>\n",
       "<thead><tr><th></th><th scope=col>PassengerId</th><th scope=col>Pclass</th><th scope=col>Name</th><th scope=col>Sex</th><th scope=col>Age</th><th scope=col>SibSp</th><th scope=col>Parch</th><th scope=col>Ticket</th><th scope=col>Fare</th><th scope=col>Cabin</th><th scope=col>Embarked</th></tr></thead>\n",
       "<tbody>\n",
       "\t<tr><th scope=row>413</th><td>1304</td><td>3</td><td>Henriksson, Miss. Jenny Lovisa</td><td>female</td><td>28</td><td>0</td><td>0</td><td>347086</td><td>7.775</td><td></td><td>S</td></tr>\n",
       "\t<tr><th scope=row>414</th><td>1305</td><td>3</td><td>Spector, Mr. Woolf</td><td>male</td><td>NA</td><td>0</td><td>0</td><td>A.5. 3236</td><td>8.05</td><td></td><td>S</td></tr>\n",
       "\t<tr><th scope=row>415</th><td>1306</td><td>1</td><td>Oliva y Ocana, Dona. Fermina</td><td>female</td><td>39</td><td>0</td><td>0</td><td>PC 17758</td><td>108.9</td><td>C105</td><td>C</td></tr>\n",
       "\t<tr><th scope=row>416</th><td>1307</td><td>3</td><td>Saether, Mr. Simon Sivertsen</td><td>male</td><td>38.5</td><td>0</td><td>0</td><td>SOTON/O.Q. 3101262</td><td>7.25</td><td></td><td>S</td></tr>\n",
       "\t<tr><th scope=row>417</th><td>1308</td><td>3</td><td>Ware, Mr. Frederick</td><td>male</td><td>NA</td><td>0</td><td>0</td><td>359309</td><td>8.05</td><td></td><td>S</td></tr>\n",
       "\t<tr><th scope=row>418</th><td>1309</td><td>3</td><td>Peter, Master. Michael J</td><td>male</td><td>NA</td><td>1</td><td>1</td><td>2668</td><td>22.3583</td><td></td><td>C</td></tr>\n",
       "</tbody>\n",
       "</table>\n"
      ],
      "text/latex": [
       "\\begin{tabular}{r|lllllllllll}\n",
       "  & PassengerId & Pclass & Name & Sex & Age & SibSp & Parch & Ticket & Fare & Cabin & Embarked\\\\\n",
       "\\hline\n",
       "\t413 & 1304 & 3 & Henriksson, Miss. Jenny Lovisa & female & 28 & 0 & 0 & 347086 & 7.775 &  & S\\\\\n",
       "\t414 & 1305 & 3 & Spector, Mr. Woolf & male & NA & 0 & 0 & A.5. 3236 & 8.05 &  & S\\\\\n",
       "\t415 & 1306 & 1 & Oliva y Ocana, Dona. Fermina & female & 39 & 0 & 0 & PC 17758 & 108.9 & C105 & C\\\\\n",
       "\t416 & 1307 & 3 & Saether, Mr. Simon Sivertsen & male & 38.5 & 0 & 0 & SOTON/O.Q. 3101262 & 7.25 &  & S\\\\\n",
       "\t417 & 1308 & 3 & Ware, Mr. Frederick & male & NA & 0 & 0 & 359309 & 8.05 &  & S\\\\\n",
       "\t418 & 1309 & 3 & Peter, Master. Michael J & male & NA & 1 & 1 & 2668 & 22.3583 &  & C\\\\\n",
       "\\end{tabular}\n"
      ],
      "text/plain": [
       "    PassengerId Pclass                           Name    Sex  Age SibSp Parch\n",
       "413        1304      3 Henriksson, Miss. Jenny Lovisa female 28.0     0     0\n",
       "414        1305      3             Spector, Mr. Woolf   male   NA     0     0\n",
       "415        1306      1   Oliva y Ocana, Dona. Fermina female 39.0     0     0\n",
       "416        1307      3   Saether, Mr. Simon Sivertsen   male 38.5     0     0\n",
       "417        1308      3            Ware, Mr. Frederick   male   NA     0     0\n",
       "418        1309      3       Peter, Master. Michael J   male   NA     1     1\n",
       "                Ticket     Fare Cabin Embarked\n",
       "413             347086   7.7750              S\n",
       "414          A.5. 3236   8.0500              S\n",
       "415           PC 17758 108.9000  C105        C\n",
       "416 SOTON/O.Q. 3101262   7.2500              S\n",
       "417             359309   8.0500              S\n",
       "418               2668  22.3583              C"
      ]
     },
     "execution_count": 7,
     "metadata": {},
     "output_type": "execute_result"
    }
   ],
   "source": [
    "# just have a glimpse to our test data\n",
    "tail(test)"
   ]
  },
  {
   "cell_type": "markdown",
   "metadata": {},
   "source": [
    "__Understanding our Data:__\n",
    "\n",
    "Understading the data we have is the most essential thing before analyzing. \n",
    "\n",
    "- ```test``` and ```train``` are data frames, R's way of representing a dataset\n",
    "- ```str()``` gives you ability to explore a data frame, which gives you information such as the data types, the number of observations, and the number of variables."
   ]
  },
  {
   "cell_type": "code",
   "execution_count": 8,
   "metadata": {
    "collapsed": false
   },
   "outputs": [
    {
     "name": "stdout",
     "output_type": "stream",
     "text": [
      "'data.frame':\t891 obs. of  12 variables:\n",
      " $ PassengerId: int  1 2 3 4 5 6 7 8 9 10 ...\n",
      " $ Survived   : int  0 1 1 1 0 0 0 0 1 1 ...\n",
      " $ Pclass     : int  3 1 3 1 3 3 1 3 3 2 ...\n",
      " $ Name       : Factor w/ 891 levels \"Abbing, Mr. Anthony\",..: 109 191 358 277 16 559 520 629 416 581 ...\n",
      " $ Sex        : Factor w/ 2 levels \"female\",\"male\": 2 1 1 1 2 2 2 2 1 1 ...\n",
      " $ Age        : num  22 38 26 35 35 NA 54 2 27 14 ...\n",
      " $ SibSp      : int  1 1 0 1 0 0 0 3 0 1 ...\n",
      " $ Parch      : int  0 0 0 0 0 0 0 1 2 0 ...\n",
      " $ Ticket     : Factor w/ 681 levels \"110152\",\"110413\",..: 525 596 662 50 473 276 86 396 345 133 ...\n",
      " $ Fare       : num  7.25 71.28 7.92 53.1 8.05 ...\n",
      " $ Cabin      : Factor w/ 148 levels \"\",\"A10\",\"A14\",..: 1 83 1 57 1 1 131 1 1 1 ...\n",
      " $ Embarked   : Factor w/ 4 levels \"\",\"C\",\"Q\",\"S\": 4 2 4 4 4 3 4 4 4 2 ...\n"
     ]
    }
   ],
   "source": [
    "# Observing train data\n",
    "str(train)"
   ]
  },
  {
   "cell_type": "code",
   "execution_count": 9,
   "metadata": {
    "collapsed": false
   },
   "outputs": [
    {
     "name": "stdout",
     "output_type": "stream",
     "text": [
      "'data.frame':\t418 obs. of  11 variables:\n",
      " $ PassengerId: int  892 893 894 895 896 897 898 899 900 901 ...\n",
      " $ Pclass     : int  3 3 2 3 3 3 3 2 3 3 ...\n",
      " $ Name       : Factor w/ 418 levels \"Abbott, Master. Eugene Joseph\",..: 210 409 273 414 182 370 85 58 5 104 ...\n",
      " $ Sex        : Factor w/ 2 levels \"female\",\"male\": 2 1 2 2 1 2 1 2 1 2 ...\n",
      " $ Age        : num  34.5 47 62 27 22 14 30 26 18 21 ...\n",
      " $ SibSp      : int  0 1 0 0 1 0 0 1 0 2 ...\n",
      " $ Parch      : int  0 0 0 0 1 0 0 1 0 0 ...\n",
      " $ Ticket     : Factor w/ 363 levels \"110469\",\"110489\",..: 153 222 74 148 139 262 159 85 101 268 ...\n",
      " $ Fare       : num  7.83 7 9.69 8.66 12.29 ...\n",
      " $ Cabin      : Factor w/ 77 levels \"\",\"A11\",\"A18\",..: 1 1 1 1 1 1 1 1 1 1 ...\n",
      " $ Embarked   : Factor w/ 3 levels \"C\",\"Q\",\"S\": 2 3 2 3 3 3 2 3 1 3 ...\n"
     ]
    }
   ],
   "source": [
    "# Observing test data\n",
    "str(test)"
   ]
  },
  {
   "cell_type": "markdown",
   "metadata": {},
   "source": [
    "How many people in our training set survived the disaster with the Titanic? \n",
    "\n",
    "- ```table()``` function gives us the absolute numbers \n",
    "- ```prop.table()``` function combination gives us the proportions\n",
    "\n",
    "> ```table()``` command can help us to explore which variables have predictive value. \n",
    "\n",
    "\n",
    "Let's start examining with the data. First thing to thing about this data what is he survival rates, and how gender survival rates are looking?"
   ]
  },
  {
   "cell_type": "code",
   "execution_count": 10,
   "metadata": {
    "collapsed": false
   },
   "outputs": [
    {
     "data": {
      "text/plain": [
       "\n",
       "  0   1 \n",
       "549 342 "
      ]
     },
     "execution_count": 10,
     "metadata": {},
     "output_type": "execute_result"
    }
   ],
   "source": [
    "# absolute numbers\n",
    "table(train$Survived)"
   ]
  },
  {
   "cell_type": "code",
   "execution_count": 11,
   "metadata": {
    "collapsed": false
   },
   "outputs": [
    {
     "data": {
      "text/plain": [
       "\n",
       "        0         1 \n",
       "0.6161616 0.3838384 "
      ]
     },
     "execution_count": 11,
     "metadata": {},
     "output_type": "execute_result"
    }
   ],
   "source": [
    "# proportions\n",
    "prop.table(table(train$Survived)) # get proportions according to specified table"
   ]
  },
  {
   "cell_type": "markdown",
   "metadata": {},
   "source": [
    "0 represents people who died, and 1 who lived.\n",
    "\n",
    "We can also do two-way comparison including gender as well:"
   ]
  },
  {
   "cell_type": "code",
   "execution_count": 13,
   "metadata": {
    "collapsed": false
   },
   "outputs": [
    {
     "data": {
      "text/plain": [
       "        \n",
       "           0   1\n",
       "  female  81 233\n",
       "  male   468 109"
      ]
     },
     "execution_count": 13,
     "metadata": {},
     "output_type": "execute_result"
    }
   ],
   "source": [
    "# We get the died,lived + female male\n",
    "table(train$Sex, train$Survived)"
   ]
  },
  {
   "cell_type": "code",
   "execution_count": 16,
   "metadata": {
    "collapsed": false
   },
   "outputs": [
    {
     "data": {
      "text/plain": [
       "        \n",
       "                 0         1\n",
       "  female 0.2579618 0.7420382\n",
       "  male   0.8110919 0.1889081"
      ]
     },
     "execution_count": 16,
     "metadata": {},
     "output_type": "execute_result"
    }
   ],
   "source": [
    "# row-wise comparison with proportions\n",
    "prop.table(table(train$Sex, train$Survived),1)"
   ]
  },
  {
   "cell_type": "markdown",
   "metadata": {},
   "source": [
    "Second thing to think is, does age play a role on survival rate? Probably the highest survival rate is for children since they are the ones to be saved first by their families.\n",
    "\n",
    "Let's test this idea by creating new column called ```child```"
   ]
  },
  {
   "cell_type": "code",
   "execution_count": 19,
   "metadata": {
    "collapsed": false
   },
   "outputs": [
    {
     "data": {
      "text/plain": [
       "   \n",
       "            0         1\n",
       "  0 0.6189684 0.3810316\n",
       "  1 0.4601770 0.5398230"
      ]
     },
     "execution_count": 19,
     "metadata": {},
     "output_type": "execute_result"
    }
   ],
   "source": [
    "train$child <- NA # create a new column with NA values \n",
    "train$child[train$Age < 18 ] <- 1 # If the age is smaller than 18 we add 1 to represent the individual as child\n",
    "train$child[train$Age >= 18] <- 0 # otherwise 0 to represent as non-child\n",
    "# Then do a two-way comparison on the number of children vs adults \n",
    "prop.table(table(train$child, train$Survived),1) # row-wise"
   ]
  },
  {
   "cell_type": "markdown",
   "metadata": {},
   "source": [
    "While less obviously than gender, age also seems to have an impact on survival.\n",
    "\n",
    "With our previous observations, we discovered that in your training set, females had over a 50% chance of surviving and males had less than a 50% chance of surviving.\n",
    "\n",
    "Using this very basic discovery we could put our first prediction saying that __\"all females in the test set survive and all males in the test set die.\"__\n",
    "\n",
    "To test our first and very basic prediction with the test data we downloaded. But there is no column called ```Survived``` in the test data, we should add that column with our predicted values. Then when you submit your results Kaggle will use the created ```Survived``` column to score our performance"
   ]
  },
  {
   "cell_type": "code",
   "execution_count": 21,
   "metadata": {
    "collapsed": true
   },
   "outputs": [],
   "source": [
    "# First we prepare a copy of test\n",
    "test_one <- test "
   ]
  },
  {
   "cell_type": "code",
   "execution_count": 22,
   "metadata": {
    "collapsed": true
   },
   "outputs": [],
   "source": [
    "test_one$Survived <- 0 # created column and intialized to 0\n",
    "test_one$Survived[test_one$Sex == 'female'] <- 1 "
   ]
  },
  {
   "cell_type": "code",
   "execution_count": 23,
   "metadata": {
    "collapsed": false
   },
   "outputs": [
    {
     "data": {
      "text/html": [
       "<table>\n",
       "<thead><tr><th></th><th scope=col>PassengerId</th><th scope=col>Pclass</th><th scope=col>Name</th><th scope=col>Sex</th><th scope=col>Age</th><th scope=col>SibSp</th><th scope=col>Parch</th><th scope=col>Ticket</th><th scope=col>Fare</th><th scope=col>Cabin</th><th scope=col>Embarked</th><th scope=col>Survived</th></tr></thead>\n",
       "<tbody>\n",
       "\t<tr><th scope=row>1</th><td>892</td><td>3</td><td>Kelly, Mr. James</td><td>male</td><td>34.5</td><td>0</td><td>0</td><td>330911</td><td>7.8292</td><td></td><td>Q</td><td>0</td></tr>\n",
       "\t<tr><th scope=row>2</th><td>893</td><td>3</td><td>Wilkes, Mrs. James (Ellen Needs)</td><td>female</td><td>47</td><td>1</td><td>0</td><td>363272</td><td>7</td><td></td><td>S</td><td>1</td></tr>\n",
       "\t<tr><th scope=row>3</th><td>894</td><td>2</td><td>Myles, Mr. Thomas Francis</td><td>male</td><td>62</td><td>0</td><td>0</td><td>240276</td><td>9.6875</td><td></td><td>Q</td><td>0</td></tr>\n",
       "\t<tr><th scope=row>4</th><td>895</td><td>3</td><td>Wirz, Mr. Albert</td><td>male</td><td>27</td><td>0</td><td>0</td><td>315154</td><td>8.6625</td><td></td><td>S</td><td>0</td></tr>\n",
       "\t<tr><th scope=row>5</th><td>896</td><td>3</td><td>Hirvonen, Mrs. Alexander (Helga E Lindqvist)</td><td>female</td><td>22</td><td>1</td><td>1</td><td>3101298</td><td>12.2875</td><td></td><td>S</td><td>1</td></tr>\n",
       "\t<tr><th scope=row>6</th><td>897</td><td>3</td><td>Svensson, Mr. Johan Cervin</td><td>male</td><td>14</td><td>0</td><td>0</td><td>7538</td><td>9.225</td><td></td><td>S</td><td>0</td></tr>\n",
       "</tbody>\n",
       "</table>\n"
      ],
      "text/latex": [
       "\\begin{tabular}{r|llllllllllll}\n",
       "  & PassengerId & Pclass & Name & Sex & Age & SibSp & Parch & Ticket & Fare & Cabin & Embarked & Survived\\\\\n",
       "\\hline\n",
       "\t1 & 892 & 3 & Kelly, Mr. James & male & 34.5 & 0 & 0 & 330911 & 7.8292 &  & Q & 0\\\\\n",
       "\t2 & 893 & 3 & Wilkes, Mrs. James (Ellen Needs) & female & 47 & 1 & 0 & 363272 & 7 &  & S & 1\\\\\n",
       "\t3 & 894 & 2 & Myles, Mr. Thomas Francis & male & 62 & 0 & 0 & 240276 & 9.6875 &  & Q & 0\\\\\n",
       "\t4 & 895 & 3 & Wirz, Mr. Albert & male & 27 & 0 & 0 & 315154 & 8.6625 &  & S & 0\\\\\n",
       "\t5 & 896 & 3 & Hirvonen, Mrs. Alexander (Helga E Lindqvist) & female & 22 & 1 & 1 & 3101298 & 12.2875 &  & S & 1\\\\\n",
       "\t6 & 897 & 3 & Svensson, Mr. Johan Cervin & male & 14 & 0 & 0 & 7538 & 9.225 &  & S & 0\\\\\n",
       "\\end{tabular}\n"
      ],
      "text/plain": [
       "  PassengerId Pclass                                         Name    Sex  Age\n",
       "1         892      3                             Kelly, Mr. James   male 34.5\n",
       "2         893      3             Wilkes, Mrs. James (Ellen Needs) female 47.0\n",
       "3         894      2                    Myles, Mr. Thomas Francis   male 62.0\n",
       "4         895      3                             Wirz, Mr. Albert   male 27.0\n",
       "5         896      3 Hirvonen, Mrs. Alexander (Helga E Lindqvist) female 22.0\n",
       "6         897      3                   Svensson, Mr. Johan Cervin   male 14.0\n",
       "  SibSp Parch  Ticket    Fare Cabin Embarked Survived\n",
       "1     0     0  330911  7.8292              Q        0\n",
       "2     1     0  363272  7.0000              S        1\n",
       "3     0     0  240276  9.6875              Q        0\n",
       "4     0     0  315154  8.6625              S        0\n",
       "5     1     1 3101298 12.2875              S        1\n",
       "6     0     0    7538  9.2250              S        0"
      ]
     },
     "execution_count": 23,
     "metadata": {},
     "output_type": "execute_result"
    }
   ],
   "source": [
    "head(test_one)\n",
    "# writing to csv file:\n",
    "# write.csv(test_one, file = \"submission1.csv\")"
   ]
  },
  {
   "cell_type": "markdown",
   "metadata": {},
   "source": [
    "## Part2: Machine Learning with Decision trees\n",
    "\n",
    "In the previous part we did all the slicing and dicing yourself to find subsets that have a higher chance of surviving. A decision tree automates this process for us, and outputs a flowchart-like structure that is easy to interpret (we'll make one yourself in the next exercise).\n",
    "\n",
    "\n",
    "Conceptually, the decision tree algorithm starts with all the data at the root node and scans all the variables for the best one to split on. Once a variable is chosen, we do the split and go down one level (or one node) and repeat. The final nodes at the bottom of the decision tree are known as terminal nodes, and the majority vote of the observations in that node determine how to predict for new observations that end up in that terminal node.\n",
    "\n",
    "To create first decision tree of ours, we will use R's ```rpart``` package."
   ]
  },
  {
   "cell_type": "code",
   "execution_count": 24,
   "metadata": {
    "collapsed": true
   },
   "outputs": [],
   "source": [
    "# Calling the library\n",
    "library('rpart')"
   ]
  },
  {
   "cell_type": "markdown",
   "metadata": {},
   "source": [
    "\n",
    "The ```rpart()``` function creates our first decision tree. Function takes multiple arguments:\n",
    "\n",
    "- ```formula``` specifying variable of interest and the variables used for prediction (```formula = Survived ~ Sex + Age```)\n",
    "- ```data``` the data set to build the decision tree (```train``` in our case)\n",
    "- ```method``` type of prediction you want. We want to predict a categorical variable, so classification: ```method = \"class\"```\n",
    "\n",
    "```r\n",
    "\n",
    "# Example Syntax of rpart() \n",
    "my_tree <- rpart(Survived ~ Sex + Age, \n",
    "                 data = train, \n",
    "                 method =\"class\")\n",
    "\n",
    "```\n",
    "\n",
    "We can also plot the resulting tree using, ```plot(my_tree)``` and ```text(my_tree)``` "
   ]
  },
  {
   "cell_type": "code",
   "execution_count": null,
   "metadata": {
    "collapsed": true
   },
   "outputs": [],
   "source": [
    "# Creating the decision tree\n",
    "my_tree <- rpart(Survived ~ Pclass + Sex + Age + SibSp + Parch + Fare + Embarked,\n",
    "                data = train,\n",
    "                method = \"class\")\n",
    "plot(my_tree) # plotting decision tree\n",
    "text(my_tree) # making text version of decision tree"
   ]
  },
  {
   "cell_type": "markdown",
   "metadata": {},
   "source": [
    "```r\n",
    "my_tree_two <- rpart(Survived ~ Pclass + Sex + Age + SibSp + Parch + Fare + Embarked,\n",
    "                data = train,\n",
    "                method = \"class\")\n",
    "plot(my_tree_two) # plotting decision tree\n",
    "text(my_tree_two) # making text version of decision tree\n",
    "\n",
    "# Load in the packages to build a fancy plot\n",
    "library(rattle)\n",
    "library(rpart.plot)\n",
    "library(RColorBrewer)\n",
    "\n",
    "# Time to plot your fancy tree\n",
    "fancyRpartPlot(my_tree_two)\n",
    "```"
   ]
  },
  {
   "cell_type": "markdown",
   "metadata": {},
   "source": [
    "We can use ```predict()``` function to generate our answers:\n",
    "\n",
    "```r\n",
    "predict(my_tree, test, type= \"class\")\n",
    "```\n",
    "\n",
    "Before submitting to Kaggle, you'll have to convert your predictions to a CSV file with exactly 418 entries and 2 columns: \n",
    "- PassengerId \n",
    "- Survived\n"
   ]
  },
  {
   "cell_type": "code",
   "execution_count": 36,
   "metadata": {
    "collapsed": true
   },
   "outputs": [],
   "source": [
    "# Making a prediction\n",
    "my_prediction <- predict(my_tree, test, type=\"class\")"
   ]
  },
  {
   "cell_type": "code",
   "execution_count": 37,
   "metadata": {
    "collapsed": true
   },
   "outputs": [],
   "source": [
    "# Creating a solution data.frame\n",
    "my_solution <- data.frame(PassengerId = test$PassengerId,\n",
    "                          Survived = my_prediction)"
   ]
  },
  {
   "cell_type": "code",
   "execution_count": 39,
   "metadata": {
    "collapsed": false
   },
   "outputs": [
    {
     "data": {
      "text/html": [
       "<table>\n",
       "<thead><tr><th></th><th scope=col>PassengerId</th><th scope=col>Survived</th></tr></thead>\n",
       "<tbody>\n",
       "\t<tr><th scope=row>1</th><td>892</td><td>0</td></tr>\n",
       "\t<tr><th scope=row>2</th><td>893</td><td>0</td></tr>\n",
       "\t<tr><th scope=row>3</th><td>894</td><td>0</td></tr>\n",
       "\t<tr><th scope=row>4</th><td>895</td><td>0</td></tr>\n",
       "\t<tr><th scope=row>5</th><td>896</td><td>1</td></tr>\n",
       "\t<tr><th scope=row>6</th><td>897</td><td>0</td></tr>\n",
       "</tbody>\n",
       "</table>\n"
      ],
      "text/latex": [
       "\\begin{tabular}{r|ll}\n",
       "  & PassengerId & Survived\\\\\n",
       "\\hline\n",
       "\t1 & 892 & 0\\\\\n",
       "\t2 & 893 & 0\\\\\n",
       "\t3 & 894 & 0\\\\\n",
       "\t4 & 895 & 0\\\\\n",
       "\t5 & 896 & 1\\\\\n",
       "\t6 & 897 & 0\\\\\n",
       "\\end{tabular}\n"
      ],
      "text/plain": [
       "  PassengerId Survived\n",
       "1         892        0\n",
       "2         893        0\n",
       "3         894        0\n",
       "4         895        0\n",
       "5         896        1\n",
       "6         897        0"
      ]
     },
     "execution_count": 39,
     "metadata": {},
     "output_type": "execute_result"
    }
   ],
   "source": [
    "# Checking the solution data.frame, in any case:\n",
    "head(my_solution)"
   ]
  },
  {
   "cell_type": "code",
   "execution_count": 38,
   "metadata": {
    "collapsed": false
   },
   "outputs": [
    {
     "data": {
      "text/html": [
       "418"
      ],
      "text/latex": [
       "418"
      ],
      "text/markdown": [
       "418"
      ],
      "text/plain": [
       "[1] 418"
      ]
     },
     "execution_count": 38,
     "metadata": {},
     "output_type": "execute_result"
    }
   ],
   "source": [
    "nrow(my_solution)"
   ]
  },
  {
   "cell_type": "code",
   "execution_count": 40,
   "metadata": {
    "collapsed": true
   },
   "outputs": [],
   "source": [
    "# Making a csv file for solution\n",
    "write.csv(my_solution, file = \"my_solution.csv\", row.names = FALSE)"
   ]
  },
  {
   "cell_type": "markdown",
   "metadata": {},
   "source": [
    "When we submit this to Kaggle, you get ~0.78 score. This score put me on 1999.\n",
    "\n",
    "We can improve our model making more complex ```rpart()```, which uses two more parameter:\n",
    "\n",
    "- ```cp``` determines when the splitting up of the decision tree stops.\n",
    "- ```minsplit``` determines the minimum amount of observations in a leaf of the tree."
   ]
  },
  {
   "cell_type": "code",
   "execution_count": 42,
   "metadata": {
    "collapsed": true
   },
   "outputs": [],
   "source": [
    "model2 <- rpart(Survived ~ Pclass + Sex + Age + SibSp + Parch + Fare + Embarked,\n",
    "                data = train, method = \"class\",\n",
    "                control = rpart.control(minsplit = 50, cp = 0))\n",
    "\n",
    "# fancyRpartPlot(my_tree_three)"
   ]
  },
  {
   "cell_type": "markdown",
   "metadata": {},
   "source": [
    "This ```rpart.control()``` gives more precise result. But thats not all, we can also re-engineer the data to get more precise results.\n",
    "\n",
    "__Enter feature engineering:__ creatively engineering your own features by combining the different existing variables.\n",
    "\n",
    "Let's see an example of feature engineering. In this example we will create ```family_size```\n",
    "\n",
    "A valid assumption is that larger families need more time to get together on a sinking ship, and hence have less chance of surviving.\n",
    "\n",
    "Family size is determined by the variables ```SibSp``` and ```Parch```, which indicate the number of family members a certain passenger is traveling with. So when doing feature engineering, you add a new variable ```family_size```, which is the sum of ```SibSp``` and ```Parch``` plus one (the observation itself), to the test and train set."
   ]
  },
  {
   "cell_type": "code",
   "execution_count": 43,
   "metadata": {
    "collapsed": true
   },
   "outputs": [],
   "source": [
    "train_two <- train"
   ]
  },
  {
   "cell_type": "code",
   "execution_count": 45,
   "metadata": {
    "collapsed": false
   },
   "outputs": [],
   "source": [
    "train_two$family_size <- train_two$SibSp + train_two$Parch + 1"
   ]
  },
  {
   "cell_type": "code",
   "execution_count": 47,
   "metadata": {
    "collapsed": false
   },
   "outputs": [],
   "source": [
    "model3 <- rpart(Survived ~ Pclass + Sex + Age + SibSp + Parch + Fare + Embarked + family_size,\n",
    "                data = train_two, method = \"class\")\n",
    "# fancyRpartPlot(model3)"
   ]
  },
  {
   "cell_type": "markdown",
   "metadata": {},
   "source": [
    "Well done. If you have a close look at your decision tree you see that ```family_size``` is not included. Apparently other variables played a more important role. This is part of the game as well. Sometimes things will not turn out as expected, but it is here that you can make the difference."
   ]
  },
  {
   "cell_type": "markdown",
   "metadata": {},
   "source": [
    "Another thing might be about the class difference. Let's have a look...\n",
    "\n",
    "First we need to create new test and train data with Title column included."
   ]
  },
  {
   "cell_type": "code",
   "execution_count": 48,
   "metadata": {
    "collapsed": true
   },
   "outputs": [],
   "source": [
    "getTitle <- function(data) {\n",
    "title.dot.start <- regexpr(\"\\\\,[A-Z ]{1,20}\\\\.\", data$Name, TRUE)\n",
    "title.comma.end <- title.dot.start\n",
    "+ attr(title.dot.start, \"match.length\")-1\n",
    "data$Title <- substr(data$Name, title.comma.end+2,title.comma.end+attr(title.dot.start, \"match.length\")-2)\n",
    "return (data$Title)\n",
    "}"
   ]
  },
  {
   "cell_type": "code",
   "execution_count": 56,
   "metadata": {
    "collapsed": true
   },
   "outputs": [],
   "source": [
    "train_new <-train\n",
    "test_new <- test"
   ]
  },
  {
   "cell_type": "code",
   "execution_count": 57,
   "metadata": {
    "collapsed": false
   },
   "outputs": [],
   "source": [
    "train_new$Title <- getTitle(train_new)\n",
    "test_new$Title <- getTitle(test_new)"
   ]
  },
  {
   "cell_type": "code",
   "execution_count": 58,
   "metadata": {
    "collapsed": true
   },
   "outputs": [],
   "source": [
    "model4 <- rpart(Survived ~ Pclass + Sex + Age + SibSp + Parch + Fare + Embarked + Title, \n",
    "                data = train_new, method = \"class\")"
   ]
  },
  {
   "cell_type": "code",
   "execution_count": null,
   "metadata": {
    "collapsed": true
   },
   "outputs": [],
   "source": [
    "# Visualize my_tree_five\n",
    "fancyRpartPlot(model4)"
   ]
  },
  {
   "cell_type": "code",
   "execution_count": null,
   "metadata": {
    "collapsed": true
   },
   "outputs": [],
   "source": [
    "my_prediction2 <- predict(model4, test_new, type = \"class\")"
   ]
  },
  {
   "cell_type": "code",
   "execution_count": null,
   "metadata": {
    "collapsed": true
   },
   "outputs": [],
   "source": [
    "my_solution2 <- data.frame(PassengerId = test_new$PassengerId, Survived = my_prediction)\n",
    "write.csv(my_solution2, file = \"my_solution2.csv\", row.names = FALSE)"
   ]
  },
  {
   "cell_type": "markdown",
   "metadata": {},
   "source": [
    "## Part3: More improvements\n",
    "\n",
    "Random Forest is very popular machine learning technique, often used in such prediction tasks. However we cannot go further into this topic to keep things more close to simple.\n",
    "\n",
    "In layman's terms, the Random Forest technique handles the overfitting problem you faced with decision trees. It grows multiple (very deep) classification trees using the training set.\n",
    "\n",
    "At the time of prediction, each tree is used to come up with a prediction and every outcome is counted as a vote. For example, if you have trained 3 trees with 2 saying a passenger in the test set will survive and 1 says he will not, the passenger will be classified as a survivor.\n",
    "\n",
    "This approach of overtraining trees, but having the majority's vote count as the actual classification decision, avoids overfitting.\n",
    "\n",
    "> Random forest requires you data to have no missing values. \n",
    "\n",
    "After this point we will combine the train and test to make ```all_data``` \n",
    "\n",
    "And we will remove NA values and give them values according to most used ones."
   ]
  },
  {
   "cell_type": "code",
   "execution_count": 64,
   "metadata": {
    "collapsed": false
   },
   "outputs": [],
   "source": [
    "load('all_data.RData')"
   ]
  },
  {
   "cell_type": "code",
   "execution_count": 65,
   "metadata": {
    "collapsed": false
   },
   "outputs": [
    {
     "data": {
      "text/html": [
       "<table>\n",
       "<thead><tr><th></th><th scope=col>PassengerId</th><th scope=col>Survived</th><th scope=col>Pclass</th><th scope=col>Name</th><th scope=col>Sex</th><th scope=col>Age</th><th scope=col>SibSp</th><th scope=col>Parch</th><th scope=col>Ticket</th><th scope=col>Fare</th><th scope=col>Cabin</th><th scope=col>Embarked</th><th scope=col>family_size</th><th scope=col>Title</th></tr></thead>\n",
       "<tbody>\n",
       "\t<tr><th scope=row>1304</th><td>1304</td><td>NA</td><td>3</td><td>Henriksson, Miss. Jenny Lovisa</td><td>female</td><td>28</td><td>0</td><td>0</td><td>347086</td><td>7.775</td><td></td><td>S</td><td>1</td><td>Miss</td></tr>\n",
       "\t<tr><th scope=row>1305</th><td>1305</td><td>NA</td><td>3</td><td>Spector, Mr. Woolf</td><td>male</td><td>NA</td><td>0</td><td>0</td><td>A.5. 3236</td><td>8.05</td><td></td><td>S</td><td>1</td><td>Mr</td></tr>\n",
       "\t<tr><th scope=row>1306</th><td>1306</td><td>NA</td><td>1</td><td>Oliva y Ocana, Dona. Fermina</td><td>female</td><td>39</td><td>0</td><td>0</td><td>PC 17758</td><td>108.9</td><td>C105</td><td>C</td><td>1</td><td>Lady</td></tr>\n",
       "\t<tr><th scope=row>1307</th><td>1307</td><td>NA</td><td>3</td><td>Saether, Mr. Simon Sivertsen</td><td>male</td><td>38.5</td><td>0</td><td>0</td><td>SOTON/O.Q. 3101262</td><td>7.25</td><td></td><td>S</td><td>1</td><td>Mr</td></tr>\n",
       "\t<tr><th scope=row>1308</th><td>1308</td><td>NA</td><td>3</td><td>Ware, Mr. Frederick</td><td>male</td><td>NA</td><td>0</td><td>0</td><td>359309</td><td>8.05</td><td></td><td>S</td><td>1</td><td>Mr</td></tr>\n",
       "\t<tr><th scope=row>1309</th><td>1309</td><td>NA</td><td>3</td><td>Peter, Master. Michael J</td><td>male</td><td>NA</td><td>1</td><td>1</td><td>2668</td><td>22.3583</td><td></td><td>C</td><td>3</td><td>Master</td></tr>\n",
       "</tbody>\n",
       "</table>\n"
      ],
      "text/latex": [
       "\\begin{tabular}{r|llllllllllllll}\n",
       "  & PassengerId & Survived & Pclass & Name & Sex & Age & SibSp & Parch & Ticket & Fare & Cabin & Embarked & family_size & Title\\\\\n",
       "\\hline\n",
       "\t1304 & 1304 & NA & 3 & Henriksson, Miss. Jenny Lovisa & female & 28 & 0 & 0 & 347086 & 7.775 &  & S & 1 & Miss\\\\\n",
       "\t1305 & 1305 & NA & 3 & Spector, Mr. Woolf & male & NA & 0 & 0 & A.5. 3236 & 8.05 &  & S & 1 & Mr\\\\\n",
       "\t1306 & 1306 & NA & 1 & Oliva y Ocana, Dona. Fermina & female & 39 & 0 & 0 & PC 17758 & 108.9 & C105 & C & 1 & Lady\\\\\n",
       "\t1307 & 1307 & NA & 3 & Saether, Mr. Simon Sivertsen & male & 38.5 & 0 & 0 & SOTON/O.Q. 3101262 & 7.25 &  & S & 1 & Mr\\\\\n",
       "\t1308 & 1308 & NA & 3 & Ware, Mr. Frederick & male & NA & 0 & 0 & 359309 & 8.05 &  & S & 1 & Mr\\\\\n",
       "\t1309 & 1309 & NA & 3 & Peter, Master. Michael J & male & NA & 1 & 1 & 2668 & 22.3583 &  & C & 3 & Master\\\\\n",
       "\\end{tabular}\n"
      ],
      "text/plain": [
       "     PassengerId Survived Pclass                           Name    Sex  Age\n",
       "1304        1304       NA      3 Henriksson, Miss. Jenny Lovisa female 28.0\n",
       "1305        1305       NA      3             Spector, Mr. Woolf   male   NA\n",
       "1306        1306       NA      1   Oliva y Ocana, Dona. Fermina female 39.0\n",
       "1307        1307       NA      3   Saether, Mr. Simon Sivertsen   male 38.5\n",
       "1308        1308       NA      3            Ware, Mr. Frederick   male   NA\n",
       "1309        1309       NA      3       Peter, Master. Michael J   male   NA\n",
       "     SibSp Parch             Ticket     Fare Cabin Embarked family_size  Title\n",
       "1304     0     0             347086   7.7750              S           1   Miss\n",
       "1305     0     0          A.5. 3236   8.0500              S           1     Mr\n",
       "1306     0     0           PC 17758 108.9000  C105        C           1   Lady\n",
       "1307     0     0 SOTON/O.Q. 3101262   7.2500              S           1     Mr\n",
       "1308     0     0             359309   8.0500              S           1     Mr\n",
       "1309     1     1               2668  22.3583              C           3 Master"
      ]
     },
     "execution_count": 65,
     "metadata": {},
     "output_type": "execute_result"
    }
   ],
   "source": [
    "tail(all_data)"
   ]
  },
  {
   "cell_type": "code",
   "execution_count": 66,
   "metadata": {
    "collapsed": true
   },
   "outputs": [],
   "source": [
    "# Passenger on row 62 and 830 do not have a value for embarkment. \n",
    "# Since many passengers embarked at Southampton, we give them the value S.\n",
    "all_data$Embarked[c(62, 830)] <- \"S\""
   ]
  },
  {
   "cell_type": "code",
   "execution_count": 67,
   "metadata": {
    "collapsed": true
   },
   "outputs": [],
   "source": [
    "# Factorize embarkment codes.\n",
    "all_data$Embarked <- factor(all_data$Embarked)"
   ]
  },
  {
   "cell_type": "code",
   "execution_count": 68,
   "metadata": {
    "collapsed": true
   },
   "outputs": [],
   "source": [
    "# Passenger on row 1044 has an NA Fare value. Let's replace it with the median fare value.\n",
    "all_data$Fare[1044] <- median(all_data$Fare, na.rm = TRUE)"
   ]
  },
  {
   "cell_type": "code",
   "execution_count": 69,
   "metadata": {
    "collapsed": true
   },
   "outputs": [],
   "source": [
    "# How to fill in missing Age values?\n",
    "# We make a prediction of a passengers Age using the other variables and a decision tree model. \n",
    "# This time you give method = \"anova\" since you are predicting a continuous variable.\n",
    "library(rpart)\n",
    "predicted_age <- rpart(Age ~ Pclass + Sex + SibSp + Parch + Fare + Embarked + Title + family_size,\n",
    "                       data = all_data[!is.na(all_data$Age),], method = \"anova\")"
   ]
  },
  {
   "cell_type": "code",
   "execution_count": 70,
   "metadata": {
    "collapsed": true
   },
   "outputs": [],
   "source": [
    "all_data$Age[is.na(all_data$Age)] <- predict(predicted_age, all_data[is.na(all_data$Age),])"
   ]
  },
  {
   "cell_type": "code",
   "execution_count": 71,
   "metadata": {
    "collapsed": true
   },
   "outputs": [],
   "source": [
    "# Split the data back into a train set and a test set\n",
    "train <- all_data[1:891,]\n",
    "test <- all_data[892:1309,]"
   ]
  },
  {
   "cell_type": "markdown",
   "metadata": {},
   "source": [
    "Okay, now we got rid of the NA values from ```all_data``` and we splitted it into train and test according as it was before.\n",
    "\n",
    "for Random Forest analysis R has a function called ```randomForest()``` in the ```randomForest``` package. \n",
    "\n",
    "We call it as we did with ```rpart()```:\n",
    "- First your provide the ```formula```. There is no argument ```class``` here to inform the function you're dealing with predicting a categorical variable, so you need to turn ```Survived``` into a factor with two levels: ```as.factor(Survived) ~ Pclass + Sex + Age```\n",
    "- The ```data``` argument takes the train data frame.\n",
    "- When you put the ```importance``` argument to ```TRUE``` you can inspect variable importance.\n",
    "- The ```ntree``` argument specifies the number of trees to grow. Limit these when having only limited computational power at your disposal.\n"
   ]
  },
  {
   "cell_type": "code",
   "execution_count": 73,
   "metadata": {
    "collapsed": false
   },
   "outputs": [],
   "source": [
    "library('randomForest')"
   ]
  },
  {
   "cell_type": "code",
   "execution_count": 74,
   "metadata": {
    "collapsed": true
   },
   "outputs": [],
   "source": [
    "set.seed(111) # set seed for reproducibilty\n",
    "my_forest <- randomForest(as.factor(Survived) ~ Pclass + Sex + Age + SibSp + Parch + Fare + Embarked + Title,\n",
    "                         data = train, importance=TRUE, ntree=1000)"
   ]
  },
  {
   "cell_type": "code",
   "execution_count": 75,
   "metadata": {
    "collapsed": true
   },
   "outputs": [],
   "source": [
    "my_prediction <- predict(my_forest, test)"
   ]
  },
  {
   "cell_type": "code",
   "execution_count": 76,
   "metadata": {
    "collapsed": true
   },
   "outputs": [],
   "source": [
    "my_solution <- data.frame(PassengerId = test$PassengerId, Survived = my_prediction)\n",
    "write.csv(my_solution, file = \"my_solution3.csv\", row.names = FALSE)"
   ]
  },
  {
   "cell_type": "markdown",
   "metadata": {},
   "source": [
    "We set ```importance=TRUE```, so we can now see which variables are important using:\n",
    "\n",
    "``` \n",
    "varImpPlot(my_forest)\n",
    "```\n",
    "\n",
    "When running the function, two graphs appear: the accuracy plot shows how much worse the model would perform without the included variables. So a high decrease (= high value x-axis) links to a high predictive variable. The second plot is the Gini coefficient. The higher the variable scores here, the more important it is for the model."
   ]
  }
 ],
 "metadata": {
  "kernelspec": {
   "display_name": "R",
   "language": "R",
   "name": "ir"
  },
  "language_info": {
   "codemirror_mode": "r",
   "file_extension": ".r",
   "mimetype": "text/x-r-source",
   "name": "R",
   "pygments_lexer": "r",
   "version": "3.2.2"
  }
 },
 "nbformat": 4,
 "nbformat_minor": 0
}
