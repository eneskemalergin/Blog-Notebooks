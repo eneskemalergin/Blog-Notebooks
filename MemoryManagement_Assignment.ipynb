{
 "cells": [
  {
   "cell_type": "markdown",
   "metadata": {},
   "source": [
    "Memory Management Simulator\n",
    "--\n",
    "\n",
    "> By Enes Kemal Ergin\n",
    "\n",
    "> Operating System Assignment 1\n",
    "\n",
    "> 11/02/2015\n",
    "\n",
    "How to develop a memory Management Simulator?\n",
    "\n",
    "__Task Given:__\n",
    "\n",
    "In general the task is to implement Fixed Memory Partition Memory Management system using C or Java, buttttt since I like Python and more comfortable about using Python. I will go ahead and implement it using Python.\n",
    "\n",
    "The goal of the simulation is to generate a set of 1000 jobs in different sizes (__The size of the job may be between 10K and 90K.__) and observe how the memory manager\n",
    "handles them.Our program will use a random number generator to determine the size of job. \n",
    "\n",
    "Here is our Fixed Memory Manager's table:\n",
    "\n",
    "![Partitions](partition.png)"
   ]
  },
  {
   "cell_type": "markdown",
   "metadata": {},
   "source": [
    "Functions\n",
    "---\n",
    "\n",
    "We use functions to break a problem into smaller sub-problems. This reduces program complexity. In this\n",
    "assignment you are supposed to implement 3 distinct functions.\n",
    "\n",
    "- main\n",
    "- jobs\n",
    "- best fit\n",
    "\n",
    "The ```main``` function will be the driver of the program. You should create the loop that controls the time of the simulation. Each iteration of the loop is considered as 1 second.\n",
    "\n",
    "The function jobs will generate an array of 1000 integers. This array will represent the queue for the jobs. Each job will stay in the memory based on the following integer division\n",
    "\n",
    "    jobProcecessingTime = jobSize/10 (e.g., jobSize=16K, jobProcecessingTime =16/10=1 second)\n",
    "    \n",
    "Sample Output\n",
    "---\n",
    "\n",
    "The program should display:\n",
    "\n",
    "- the total time, ```time``` , passed for processing all the jobs in the ```jobQueue``` ,\n",
    "- the number of jobs rejected, ```numberOfRejectedJobs```\n",
    "- usage statistics of the partitions, ```partitionUsage```\n",
    "\n",
    "---\n",
    "\n",
    "__```bestFit(number)``` Function__"
   ]
  },
  {
   "cell_type": "code",
   "execution_count": 1,
   "metadata": {
    "collapsed": true
   },
   "outputs": [],
   "source": [
    "def bestFit(number):                       # Function Header\n",
    "    \"\"\"\n",
    "    bestFit function takes a number from the job list and find its best fit\n",
    "    from pre-defined partitions\n",
    "    we have 3 different partition sizes:\n",
    "        16\n",
    "        32\n",
    "        64\n",
    "    Then bestFit returns the integer number of the partition size\n",
    "    \"\"\"\n",
    "    if number <= 16:                       # If number is smaller and equal 16 \n",
    "        return 16                          # Return 16\n",
    "    elif number > 16 and number <=32:      # If bigger then 16 and smaller then and equal to 32\n",
    "        return 32                          # Return 32\n",
    "    elif number > 32 and number <=64:      # If bigger then 32 and smaller then and equal to 64\n",
    "        return 64                          # Return 64"
   ]
  },
  {
   "cell_type": "markdown",
   "metadata": {},
   "source": [
    "__```jobs()``` Function:__\n"
   ]
  },
  {
   "cell_type": "code",
   "execution_count": 2,
   "metadata": {
    "collapsed": true
   },
   "outputs": [],
   "source": [
    "def jobs():                                  # Function header\n",
    "    \"\"\"\n",
    "    jobs function takes no parameter\n",
    "    Function also has another sub-function which called by the function\n",
    "    \n",
    "    \"\"\"                                   \n",
    "    from random import randint               # Import randint from random library\n",
    "    memory = [16,16,16,32,32,64]             # Memory Partitions \n",
    "    i = 1                                    # Initialize the loop counter  \n",
    "    unprocessed_jobs = []                    # Initialize an empty list to store the random integers\n",
    "    while i <= 1000:                         # Loop 1000 times\n",
    "        rand_int = randint(10,90)            # get pseudo-random integers between 10-90\n",
    "        unprocessed_jobs.append(rand_int)    # Add the random integer to list \n",
    "        i += 1                               # Incrementing by 1\n",
    "    \n",
    "    # The following line is slicing the jobs which are bigger then the max size in memory partition size\n",
    "    #  which also stores the sorted list into variable, then we need to randomize it.\n",
    "    unprocessed_jobs = sorted(unprocessed_jobs)[:sorted(unprocessed_jobs).index(max(memory))]\n",
    "    def RandomizeArray(myList):              # Randomizing Array Function is sub-function\n",
    "        max_i = myList[len(myList) - 1]      # Get the max value in list\n",
    "        i = 0                                # Initialize the counter\n",
    "        for i in range(len(myList)):         # Loop until the length of the list\n",
    "            j = randint(i,(len(myList) - 1)) # Get a random integer between i to length of list-1\n",
    "            temp = myList[i]                 # Swap the i and j\n",
    "            myList[i] = myList[j]            # Swap the i and j \n",
    "            myList[j] = temp                 # Swap the i and j\n",
    "        return myList                        # Return the randomized list\n",
    "    \n",
    "    return RandomizeArray(unprocessed_jobs)  # Return the randomized job list"
   ]
  },
  {
   "cell_type": "markdown",
   "metadata": {},
   "source": [
    "__```main()``` Function:__ "
   ]
  },
  {
   "cell_type": "code",
   "execution_count": 3,
   "metadata": {
    "collapsed": true
   },
   "outputs": [],
   "source": [
    "def main():                                             # Function header without an argument\n",
    "    \"\"\"\n",
    "    This function is the main one which means this functions runs all other functions and \n",
    "        prints the outputs. \n",
    "    \"\"\"\n",
    "    unprocessed_jobs = jobs()                           # jobs() function gets the usable job list\n",
    "    numberOfRejectedJobs = 0                            # Initialize a variable to store the number of Rejected ones\n",
    "    numberOfRejectedJobs = 1000 - len(unprocessed_jobs) # Calculate it by substracting the length of usable jobs by 1000 \n",
    "    memory = [16,16,16,32,32,64]                        # Create the list of partition sizes\n",
    "    time = 0                                            # Initialize the time elapsed\n",
    "    for i in unprocessed_jobs:                          # Loop through the usable job list\n",
    "        if len(memory) != 0:                            # If there is still memory space left\n",
    "            value = bestFit(i)                          # bestFit(i) and store the returned value in value\n",
    "            if value in memory:                         # If value is in memory list\n",
    "                time += i/10                            # Add the time elapsed in time\n",
    "                memory.remove(value)                    # Then remove that partition\n",
    "            else:                                       # Else\n",
    "                continue                                # Continue\n",
    "        else:                                           # If there is no space left\n",
    "            memory = [16,16,16,32,32,64]                # Then assign a new memory\n",
    "    print \"The time after all 1000 jobs left: \" + str(time)\n",
    "    print \"Number of Rejected Jobs: \" + str(numberOfRejectedJobs) # Now we get the numberOfRejectedJobs"
   ]
  },
  {
   "cell_type": "code",
   "execution_count": 9,
   "metadata": {
    "collapsed": false
   },
   "outputs": [
    {
     "name": "stdout",
     "output_type": "stream",
     "text": [
      "The time after all 1000 jobs left: 314\n",
      "Number of Rejected Jobs: 336\n"
     ]
    }
   ],
   "source": [
    "main()"
   ]
  },
  {
   "cell_type": "code",
   "execution_count": null,
   "metadata": {
    "collapsed": true
   },
   "outputs": [],
   "source": []
  }
 ],
 "metadata": {
  "kernelspec": {
   "display_name": "Python 2",
   "language": "python",
   "name": "python2"
  },
  "language_info": {
   "codemirror_mode": {
    "name": "ipython",
    "version": 2
   },
   "file_extension": ".py",
   "mimetype": "text/x-python",
   "name": "python",
   "nbconvert_exporter": "python",
   "pygments_lexer": "ipython2",
   "version": "2.7.10"
  }
 },
 "nbformat": 4,
 "nbformat_minor": 0
}
